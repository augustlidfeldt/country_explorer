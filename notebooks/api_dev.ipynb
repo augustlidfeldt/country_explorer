{
 "cells": [
  {
   "cell_type": "code",
   "execution_count": 37,
   "metadata": {},
   "outputs": [],
   "source": [
    "import question_server as qs"
   ]
  },
  {
   "cell_type": "code",
   "execution_count": 30,
   "metadata": {},
   "outputs": [
    {
     "name": "stdout",
     "output_type": "stream",
     "text": [
      "Connection to PostgreSQL DB successful\n",
      "AND\n"
     ]
    },
    {
     "data": {
      "text/plain": [
       "['45.0',\n",
       " 'Future changes',\n",
       " 'Greater respect for authority',\n",
       " '0.5%',\n",
       " '47.01%',\n",
       " '44.32%',\n",
       " '8.17%',\n",
       " 1004]"
      ]
     },
     "execution_count": 30,
     "metadata": {},
     "output_type": "execute_result"
    }
   ],
   "source": [
    "response = qs.ask_question(45,\"AND\")\n",
    "headers = list(response.columns)\n",
    "values = list(response.iloc[0])\n",
    "values\n"
   ]
  },
  {
   "cell_type": "code",
   "execution_count": 40,
   "metadata": {},
   "outputs": [
    {
     "name": "stdout",
     "output_type": "stream",
     "text": [
      "Connection to PostgreSQL DB successful\n",
      "IRQ\n"
     ]
    },
    {
     "data": {
      "text/html": [
       "<div>\n",
       "<style scoped>\n",
       "    .dataframe tbody tr th:only-of-type {\n",
       "        vertical-align: middle;\n",
       "    }\n",
       "\n",
       "    .dataframe tbody tr th {\n",
       "        vertical-align: top;\n",
       "    }\n",
       "\n",
       "    .dataframe thead th {\n",
       "        text-align: right;\n",
       "    }\n",
       "</style>\n",
       "<table border=\"1\" class=\"dataframe\">\n",
       "  <thead>\n",
       "    <tr style=\"text-align: right;\">\n",
       "      <th></th>\n",
       "      <th>Question</th>\n",
       "      <th>Theme</th>\n",
       "      <th>Subtheme</th>\n",
       "      <th>Don't know</th>\n",
       "      <th>No answer</th>\n",
       "      <th>Very happy</th>\n",
       "      <th>Quite happy</th>\n",
       "      <th>Not very happy</th>\n",
       "      <th>Not at all happy</th>\n",
       "      <th>Answers</th>\n",
       "    </tr>\n",
       "  </thead>\n",
       "  <tbody>\n",
       "    <tr>\n",
       "      <th>0</th>\n",
       "      <td>46.0</td>\n",
       "      <td>Feeling of happiness</td>\n",
       "      <td>0</td>\n",
       "      <td>0.58%</td>\n",
       "      <td>1.17%</td>\n",
       "      <td>17.92%</td>\n",
       "      <td>51.25%</td>\n",
       "      <td>19.33%</td>\n",
       "      <td>9.75%</td>\n",
       "      <td>1200</td>\n",
       "    </tr>\n",
       "  </tbody>\n",
       "</table>\n",
       "</div>"
      ],
      "text/plain": [
       "  Question                 Theme Subtheme Don't know No answer Very happy  \\\n",
       "0     46.0  Feeling of happiness        0      0.58%     1.17%     17.92%   \n",
       "\n",
       "  Quite happy Not very happy Not at all happy  Answers  \n",
       "0      51.25%         19.33%            9.75%     1200  "
      ]
     },
     "execution_count": 40,
     "metadata": {},
     "output_type": "execute_result"
    }
   ],
   "source": [
    "\n",
    "qs.ask_question(46,\"IRQ\")"
   ]
  },
  {
   "cell_type": "code",
   "execution_count": 42,
   "metadata": {},
   "outputs": [
    {
     "name": "stdout",
     "output_type": "stream",
     "text": [
      "Connection to PostgreSQL DB successful\n",
      "IRQ\n"
     ]
    },
    {
     "data": {
      "text/html": [
       "<div>\n",
       "<style scoped>\n",
       "    .dataframe tbody tr th:only-of-type {\n",
       "        vertical-align: middle;\n",
       "    }\n",
       "\n",
       "    .dataframe tbody tr th {\n",
       "        vertical-align: top;\n",
       "    }\n",
       "\n",
       "    .dataframe thead th {\n",
       "        text-align: right;\n",
       "    }\n",
       "</style>\n",
       "<table border=\"1\" class=\"dataframe\">\n",
       "  <thead>\n",
       "    <tr style=\"text-align: right;\">\n",
       "      <th></th>\n",
       "      <th>Question</th>\n",
       "      <th>Theme</th>\n",
       "      <th>Subtheme</th>\n",
       "      <th>Don't know</th>\n",
       "      <th>No answer</th>\n",
       "      <th>Agree strongly</th>\n",
       "      <th>Agree</th>\n",
       "      <th>Disagree</th>\n",
       "      <th>Strongly disagree</th>\n",
       "      <th>Answers</th>\n",
       "    </tr>\n",
       "  </thead>\n",
       "  <tbody>\n",
       "    <tr>\n",
       "      <th>0</th>\n",
       "      <td>32.0</td>\n",
       "      <td>Being a housewife just as fulfilling</td>\n",
       "      <td>0</td>\n",
       "      <td>2.5%</td>\n",
       "      <td>0.83%</td>\n",
       "      <td>45.92%</td>\n",
       "      <td>24.67%</td>\n",
       "      <td>18.25%</td>\n",
       "      <td>7.83%</td>\n",
       "      <td>1200</td>\n",
       "    </tr>\n",
       "  </tbody>\n",
       "</table>\n",
       "</div>"
      ],
      "text/plain": [
       "  Question                                 Theme Subtheme Don't know  \\\n",
       "0     32.0  Being a housewife just as fulfilling        0       2.5%   \n",
       "\n",
       "  No answer Agree strongly   Agree Disagree Strongly disagree  Answers  \n",
       "0     0.83%         45.92%  24.67%   18.25%             7.83%     1200  "
      ]
     },
     "execution_count": 42,
     "metadata": {},
     "output_type": "execute_result"
    }
   ],
   "source": [
    "import question_server as qs2\n",
    "qs2.ask_question(32,\"IRQ\")"
   ]
  },
  {
   "cell_type": "code",
   "execution_count": 48,
   "metadata": {},
   "outputs": [
    {
     "name": "stdout",
     "output_type": "stream",
     "text": [
      "Connection to PostgreSQL DB successful\n",
      "AND\n"
     ]
    },
    {
     "data": {
      "text/html": [
       "<div>\n",
       "<style scoped>\n",
       "    .dataframe tbody tr th:only-of-type {\n",
       "        vertical-align: middle;\n",
       "    }\n",
       "\n",
       "    .dataframe tbody tr th {\n",
       "        vertical-align: top;\n",
       "    }\n",
       "\n",
       "    .dataframe thead th {\n",
       "        text-align: right;\n",
       "    }\n",
       "</style>\n",
       "<table border=\"1\" class=\"dataframe\">\n",
       "  <thead>\n",
       "    <tr style=\"text-align: right;\">\n",
       "      <th></th>\n",
       "      <th>Question</th>\n",
       "      <th>Theme</th>\n",
       "      <th>Subtheme</th>\n",
       "      <th>No answer</th>\n",
       "      <th>The entire way our society is organized must be radically changed by revolutionary action</th>\n",
       "      <th>Our society must be gradually improved by reforms</th>\n",
       "      <th>Our present society must be valiantly defended against all subversive forces</th>\n",
       "      <th>Answers</th>\n",
       "    </tr>\n",
       "  </thead>\n",
       "  <tbody>\n",
       "    <tr>\n",
       "      <th>0</th>\n",
       "      <td>42.0</td>\n",
       "      <td>Basic kinds of attitudes concerning society</td>\n",
       "      <td>0</td>\n",
       "      <td>4.18%</td>\n",
       "      <td>11.25%</td>\n",
       "      <td>81.47%</td>\n",
       "      <td>3.09%</td>\n",
       "      <td>1004</td>\n",
       "    </tr>\n",
       "  </tbody>\n",
       "</table>\n",
       "</div>"
      ],
      "text/plain": [
       "  Question                                        Theme Subtheme No answer  \\\n",
       "0     42.0  Basic kinds of attitudes concerning society        0     4.18%   \n",
       "\n",
       "  The entire way our society is organized must be radically changed by revolutionary action  \\\n",
       "0                                             11.25%                                          \n",
       "\n",
       "  Our society must be gradually improved by reforms  \\\n",
       "0                                            81.47%   \n",
       "\n",
       "  Our present society must be valiantly defended against all subversive forces  \\\n",
       "0                                              3.09%                             \n",
       "\n",
       "   Answers  \n",
       "0     1004  "
      ]
     },
     "execution_count": 48,
     "metadata": {},
     "output_type": "execute_result"
    }
   ],
   "source": [
    "qs.ask_question(42,\"AND\")"
   ]
  },
  {
   "cell_type": "code",
   "execution_count": 54,
   "metadata": {},
   "outputs": [
    {
     "name": "stdout",
     "output_type": "stream",
     "text": [
      "Connection to PostgreSQL DB successful\n",
      "IRQ\n"
     ]
    },
    {
     "data": {
      "text/html": [
       "<div>\n",
       "<style scoped>\n",
       "    .dataframe tbody tr th:only-of-type {\n",
       "        vertical-align: middle;\n",
       "    }\n",
       "\n",
       "    .dataframe tbody tr th {\n",
       "        vertical-align: top;\n",
       "    }\n",
       "\n",
       "    .dataframe thead th {\n",
       "        text-align: right;\n",
       "    }\n",
       "</style>\n",
       "<table border=\"1\" class=\"dataframe\">\n",
       "  <thead>\n",
       "    <tr style=\"text-align: right;\">\n",
       "      <th></th>\n",
       "      <th>Question</th>\n",
       "      <th>Theme</th>\n",
       "      <th>Subtheme</th>\n",
       "      <th>Don't know</th>\n",
       "      <th>No answer</th>\n",
       "      <th>Very important</th>\n",
       "      <th>Rather important</th>\n",
       "      <th>Not very important</th>\n",
       "      <th>Not at all important</th>\n",
       "      <th>Answers</th>\n",
       "    </tr>\n",
       "  </thead>\n",
       "  <tbody>\n",
       "    <tr>\n",
       "      <th>0</th>\n",
       "      <td>4.0</td>\n",
       "      <td>Important in life</td>\n",
       "      <td>Politics</td>\n",
       "      <td>2.08%</td>\n",
       "      <td>0.42%</td>\n",
       "      <td>17.58%</td>\n",
       "      <td>21.42%</td>\n",
       "      <td>27.75%</td>\n",
       "      <td>30.75%</td>\n",
       "      <td>1200</td>\n",
       "    </tr>\n",
       "  </tbody>\n",
       "</table>\n",
       "</div>"
      ],
      "text/plain": [
       "  Question              Theme  Subtheme Don't know No answer Very important  \\\n",
       "0      4.0  Important in life  Politics      2.08%     0.42%         17.58%   \n",
       "\n",
       "  Rather important Not very important Not at all important  Answers  \n",
       "0           21.42%             27.75%               30.75%     1200  "
      ]
     },
     "execution_count": 54,
     "metadata": {},
     "output_type": "execute_result"
    }
   ],
   "source": [
    "import question_server\n",
    "question_server.ask_question(4,\"IRQ\")"
   ]
  },
  {
   "cell_type": "code",
   "execution_count": 137,
   "metadata": {},
   "outputs": [],
   "source": [
    "#import question_server as qs\n",
    "from flask import Flask\n",
    "from flask_cors import CORS\n",
    "from flask import request\n",
    "import pandas as pd\n",
    "import psycopg2\n",
    "from psycopg2 import OperationalError\n",
    "\n",
    "from multiprocessing import connection\n",
    "import json\n",
    "\n",
    "def create_connection(db_name, db_user, db_password, db_host, db_port):\n",
    "    connection = None\n",
    "    try:\n",
    "        connection = psycopg2.connect(\n",
    "            database=db_name,\n",
    "            user=db_user,\n",
    "            password=db_password,\n",
    "            host=db_host,\n",
    "            port=db_port,\n",
    "        )\n",
    "        \n",
    "        print(\"Connection to PostgreSQL DB successful\")\n",
    "    except OperationalError as e:\n",
    "        print(f\"The error '{e}' occurred\")\n",
    "    return connection\n",
    "\n",
    "def question_setup():\n",
    "    global connection\n",
    "    connection = create_connection(\n",
    "        \"country_app\", \"postgres\", \"\", \"127.0.0.1\", \"5432\"\n",
    "    )\n",
    "    return connection\n",
    "\n"
   ]
  },
  {
   "cell_type": "code",
   "execution_count": 128,
   "metadata": {},
   "outputs": [
    {
     "name": "stdout",
     "output_type": "stream",
     "text": [
      "Connection to PostgreSQL DB successful\n",
      "('Iraq', 18755.0, 3.7)\n"
     ]
    }
   ],
   "source": [
    "\n",
    "question_nr, country_alpha = 29, 'IRQ'\n",
    "\n",
    "select_question_answers = f\"\"\"\n",
    "    SELECT \"Q{question_nr}\", COUNT(\"Q{question_nr}\") FROM QUESTIONS WHERE \"B_COUNTRY_ALPHA\" = '{country_alpha}' GROUP BY \"Q{question_nr}\" ORDER BY \"Q{question_nr}\"\n",
    "\"\"\"\n",
    "query = f\"\"\"\n",
    "SELECT f.country, wpc.gdp_per_cap, f.fertility as GDP FROM world_gdp_per_cap as wpc INNER JOIN world_fertility as f ON f.iso_code = wpc.iso_code WHERE f.iso_code='{country_alpha}'\n",
    "\"\"\"\n",
    "\n",
    "connection = question_setup()\n",
    "cursor = connection.cursor()\n",
    "cursor.execute(query)\n",
    "results = cursor.fetchall()\n",
    "\n",
    "for r in results:\n",
    "    print(r)"
   ]
  },
  {
   "cell_type": "code",
   "execution_count": 14,
   "metadata": {},
   "outputs": [
    {
     "name": "stdout",
     "output_type": "stream",
     "text": [
      "IRQ\n",
      "JPN\n",
      "'IRQ','JPN'\n"
     ]
    }
   ],
   "source": [
    "country_alpha = \"'IRQ','JPN'\"\n",
    "\n",
    "country_alpha = ['IRQ','JPN']\n",
    "\n",
    "question_str = \"\"\n",
    "for c in country_alpha:\n",
    "    print(c)\n",
    "    question_str+=\"'\"+c+\"',\"\n",
    "    \n",
    "question_str = question_str[:-1]\n",
    "    \n",
    "\n",
    "print(question_str)\n",
    "#question_str.join(country) for country in country_alpha:\n"
   ]
  },
  {
   "cell_type": "code",
   "execution_count": 652,
   "metadata": {},
   "outputs": [
    {
     "name": "stdout",
     "output_type": "stream",
     "text": [
      "IRQ\n",
      "Connection to PostgreSQL DB successful\n",
      "'IRQ'\n",
      "hello\n",
      "<class 'str'>\n"
     ]
    },
    {
     "data": {
      "text/plain": [
       "'{\"headers\": [\"Country\", \"Question\", \"Theme\", \"Subtheme\", \"Mentioned\", \"Not mentioned\", \"Answers\"], \"rows\": [\"\"IRQ\"\", \"23.0\", \"Neighbors\", \" People of a different religion\", \"34.75%\", \"65.25%\", 1200]}'"
      ]
     },
     "execution_count": 652,
     "metadata": {},
     "output_type": "execute_result"
    }
   ],
   "source": [
    "\n",
    "answer_dict = {'-5': 'alt_op_5', '-4': 'alt_op_4', '-3': 'alt_op_3', '-2': 'alt_op_2', '-1': 'alt_op_1', '1': 'op_1',\n",
    "               '2': 'op_2', '3': 'op_3', '4': 'op_4', '5': 'op_5', '6': 'op_6', '7': 'op_7', '8': 'op_8', '9': 'op_9', '10': 'op_10','0': 'op_0'}\n",
    "\n",
    "\n",
    "def list_to_sql_string(country_alpha):\n",
    "\n",
    "    question_str = \"\"\n",
    "    for c in country_alpha:\n",
    "        print(c)\n",
    "        question_str += \"'\"+c+\"',\"\n",
    "\n",
    "    return question_str[:-1]\n",
    "\n",
    "\n",
    "def ask_question(question_nr, country_alpha):\n",
    "    \n",
    "    country_alpha = list_to_sql_string(country_alpha)\n",
    "\n",
    "    select_question_answers = f\"\"\"\n",
    "        SELECT \"B_COUNTRY_ALPHA\",\"Q{question_nr}\", COUNT(\"Q{question_nr}\") FROM QUESTIONS WHERE \"B_COUNTRY_ALPHA\" IN ({country_alpha}) GROUP BY \"B_COUNTRY_ALPHA\",\"Q{question_nr}\" ORDER BY \"B_COUNTRY_ALPHA\"\n",
    "    \"\"\"\n",
    "\n",
    "    connection = question_setup()\n",
    "    cursor = connection.cursor()\n",
    "    cursor.execute(select_question_answers)\n",
    "    results = cursor.fetchall()\n",
    "\n",
    "    cols = ''\n",
    "    freq = []\n",
    "    for r in results:\n",
    "        cols += (answer_dict[str(r[1])])+','\n",
    "        freq.append(r[2])\n",
    "\n",
    "    # Calculate share\n",
    "    sum = 0\n",
    "    for opt in freq:\n",
    "        sum += int(opt)\n",
    "    freq = list(map(lambda a: round((a/sum), 4)*100, freq))\n",
    "\n",
    "    select_answers = f\"\"\"SELECT q,theme,subtheme,{cols[:-1]} FROM answers WHERE \"q\" = '{question_nr}.0'\"\"\"\n",
    "    select_columns = \"\"\"SELECT column_name, ordinal_position FROM information_schema.columns WHERE table_name = 'answers'\"\"\"\n",
    "\n",
    "    def get_selection(query):\n",
    "        cursor = connection.cursor()\n",
    "        cursor.execute(query)\n",
    "        results = cursor.fetchall()\n",
    "\n",
    "        return results\n",
    "\n",
    "    question_details = get_selection(select_answers)[0]\n",
    "    freq = list(map(lambda a: str(round(a, 4))+\"%\", freq))  # add percentages, but string\n",
    "    data = [country_alpha, *list(question_details[0:3]), *freq, sum]\n",
    "\n",
    "    columns = [*[\"Country\", \"Question\", \"Theme\", \"Subtheme\"], *question_details[3:], *[\"Answers\"]]\n",
    "    df = pd.DataFrame([data], columns=columns)\n",
    "    if df[\"Subtheme\"][0] == '0':\n",
    "        print(\"No subtheme!!!\")\n",
    "        df.drop(labels=\"Subtheme\", axis=1, inplace=True)\n",
    "\n",
    "    print(country_alpha)\n",
    "\n",
    "    print(\"hello\")\n",
    "    response = {\"headers\": list(df.columns), \"rows\": list(df.iloc[0])}\n",
    "    response = str(response).replace(\"'\", '\"').replace('n\"t', \"n't\")\n",
    "    print(type(response))\n",
    "    return str(response)\n",
    "\n",
    "ask_question(23, [\"IRQ\"])"
   ]
  },
  {
   "cell_type": "code",
   "execution_count": 223,
   "metadata": {},
   "outputs": [
    {
     "name": "stdout",
     "output_type": "stream",
     "text": [
      "Connection to PostgreSQL DB successful\n",
      "['2', '4', '1', '3', '-1', '-2']\n"
     ]
    }
   ],
   "source": [
    "country_alpha = ['IRQ','JPN','USA']\n",
    "\n",
    "country_alpha = \"'IRQ','JPN','USA'\"\n",
    "question_nr = 2\n",
    "\n",
    "select_question_answers = f\"\"\"\n",
    "        SELECT \"B_COUNTRY_ALPHA\",\"Q{question_nr}\", COUNT(\"Q{question_nr}\") FROM QUESTIONS WHERE \"B_COUNTRY_ALPHA\" IN ({country_alpha}) GROUP BY \"B_COUNTRY_ALPHA\",\"Q{question_nr}\" ORDER BY \"B_COUNTRY_ALPHA\"\n",
    "    \"\"\"\n",
    "\n",
    "connection = question_setup()\n",
    "cursor = connection.cursor()\n",
    "cursor.execute(select_question_answers)\n",
    "results = cursor.fetchall()\n",
    "\n",
    "col_list = []\n",
    "option_frequency = []\n",
    "for r in results:\n",
    "    if r[1] not in col_list:\n",
    "        col_list.append(r[1])\n",
    "        \n",
    "print(col_list)\n"
   ]
  },
  {
   "cell_type": "code",
   "execution_count": null,
   "metadata": {},
   "outputs": [],
   "source": [
    "## One question, three countries\n",
    "## Show Plotly diagram of answers\n"
   ]
  },
  {
   "cell_type": "code",
   "execution_count": 224,
   "metadata": {},
   "outputs": [
    {
     "data": {
      "text/plain": [
       "'alt_op_2,op_2,op_4,op_3,op_1,alt_op_1'"
      ]
     },
     "execution_count": 224,
     "metadata": {},
     "output_type": "execute_result"
    }
   ],
   "source": [
    "# Get the set of response_codes that were possible in the answers, can be different for different countries \n",
    "nr_columns = list(set(map(lambda a : a[1],results)))\n",
    "\n",
    "# Convert the numeric response codes in the answer to text response codes in database\n",
    "text_columns = \",\".join(list(map(lambda a : answer_dict[a],nr_columns)))\n",
    "text_columns\n",
    "\n",
    "#text_columns = ''\n",
    "#for n in nr_columns:\n",
    "#        text_columns += (answer_dict[n])+','\n",
    "#\",\".join(text_columns)\n"
   ]
  },
  {
   "cell_type": "code",
   "execution_count": 658,
   "metadata": {},
   "outputs": [],
   "source": [
    "answer_dict = {'-5': 'alt_op_5', '-4': 'alt_op_4', '-3': 'alt_op_3', '-2': 'alt_op_2', '-1': 'alt_op_1', '1': 'op_1',\n",
    "               '2': 'op_2', '3': 'op_3', '4': 'op_4', '5': 'op_5', '6': 'op_6', '7': 'op_7', '8': 'op_8', '9': 'op_9', '10': 'op_10'}"
   ]
  },
  {
   "cell_type": "code",
   "execution_count": 235,
   "metadata": {},
   "outputs": [],
   "source": [
    "\n"
   ]
  },
  {
   "cell_type": "code",
   "execution_count": 509,
   "metadata": {},
   "outputs": [
    {
     "data": {
      "text/html": [
       "<div>\n",
       "<style scoped>\n",
       "    .dataframe tbody tr th:only-of-type {\n",
       "        vertical-align: middle;\n",
       "    }\n",
       "\n",
       "    .dataframe tbody tr th {\n",
       "        vertical-align: top;\n",
       "    }\n",
       "\n",
       "    .dataframe thead th {\n",
       "        text-align: right;\n",
       "    }\n",
       "</style>\n",
       "<table border=\"1\" class=\"dataframe\">\n",
       "  <thead>\n",
       "    <tr style=\"text-align: right;\">\n",
       "      <th></th>\n",
       "      <th>Don't know</th>\n",
       "      <th>No answer</th>\n",
       "      <th>Agree</th>\n",
       "      <th>Disagree</th>\n",
       "      <th>Neither agree nor disagree</th>\n",
       "      <th>Disagree</th>\n",
       "      <th>Disagree strongly</th>\n",
       "      <th>Answers</th>\n",
       "    </tr>\n",
       "  </thead>\n",
       "  <tbody>\n",
       "    <tr>\n",
       "      <th>AND</th>\n",
       "      <td>0.000</td>\n",
       "      <td>0.003</td>\n",
       "      <td>0.012</td>\n",
       "      <td>0.013</td>\n",
       "      <td>0.115</td>\n",
       "      <td>0.308</td>\n",
       "      <td>0.550</td>\n",
       "      <td>1004.0</td>\n",
       "    </tr>\n",
       "    <tr>\n",
       "      <th>AUS</th>\n",
       "      <td>0.000</td>\n",
       "      <td>0.007</td>\n",
       "      <td>0.019</td>\n",
       "      <td>0.049</td>\n",
       "      <td>0.157</td>\n",
       "      <td>0.294</td>\n",
       "      <td>0.475</td>\n",
       "      <td>1813.0</td>\n",
       "    </tr>\n",
       "    <tr>\n",
       "      <th>IRQ</th>\n",
       "      <td>0.004</td>\n",
       "      <td>0.001</td>\n",
       "      <td>0.608</td>\n",
       "      <td>0.173</td>\n",
       "      <td>0.088</td>\n",
       "      <td>0.083</td>\n",
       "      <td>0.043</td>\n",
       "      <td>1200.0</td>\n",
       "    </tr>\n",
       "  </tbody>\n",
       "</table>\n",
       "</div>"
      ],
      "text/plain": [
       "     Don't know  No answer  Agree  Disagree  Neither agree nor disagree  \\\n",
       "AND       0.000      0.003  0.012     0.013                       0.115   \n",
       "AUS       0.000      0.007  0.019     0.049                       0.157   \n",
       "IRQ       0.004      0.001  0.608     0.173                       0.088   \n",
       "\n",
       "     Disagree  Disagree strongly  Answers  \n",
       "AND     0.308              0.550   1004.0  \n",
       "AUS     0.294              0.475   1813.0  \n",
       "IRQ     0.083              0.043   1200.0  "
      ]
     },
     "metadata": {},
     "output_type": "display_data"
    },
    {
     "name": "stdout",
     "output_type": "stream",
     "text": [
      "{\"question_nr\": 33, \"theme\": \"Jobs scarce\", \"subtheme\": \" Men should have more right to a job than women\", \"headers\": [\"Don't know\", \"No answer\", \"Agree\", \"Disagree\", \"Neither agree nor disagree\", \"Disagree\", \"Disagree strongly\", \"Answers\"], \"countries\": [\"AND\", \"AUS\", \"IRQ\"], \"rows\": [[0.0, 0.003, 0.012, 0.013, 0.115, 0.308, 0.55, 1004.0], [0.0, 0.007, 0.019, 0.049, 0.157, 0.294, 0.475, 1813.0], [0.004, 0.001, 0.608, 0.173, 0.088, 0.083, 0.043, 1200.0]]}\n"
     ]
    },
    {
     "name": "stderr",
     "output_type": "stream",
     "text": [
      "/Users/august/opt/anaconda3/lib/python3.7/site-packages/ipykernel_launcher.py:71: UserWarning: DataFrame columns are not unique, some columns will be omitted.\n"
     ]
    }
   ],
   "source": [
    "import numpy as np\n",
    "\n",
    "answer_dict = {'-5': 'alt_op_5', '-4': 'alt_op_4', '-3': 'alt_op_3', '-2': 'alt_op_2', '-1': 'alt_op_1', '1': 'op_1',\n",
    "               '2': 'op_2', '3': 'op_3', '4': 'op_4', '5': 'op_5', '6': 'op_6', '7': 'op_7', '8': 'op_8', '9': 'op_9', '10': 'op_10'}\n",
    "\n",
    "\n",
    "def list_to_sql_string(country_alpha):\n",
    "    question_str = \"\"\n",
    "    for c in country_alpha:\n",
    "        question_str += \"'\"+c+\"',\"\n",
    "\n",
    "    return question_str[:-1]\n",
    "\n",
    "def PSQL_execute(query):\n",
    "    with connection:\n",
    "        with connection.cursor() as cursor:\n",
    "            cursor.execute(query)\n",
    "            results = cursor.fetchall()\n",
    "    return results\n",
    "\n",
    "def ask_many_questions(question_nr, country_alpha):\n",
    "    country_alpha = list_to_sql_string(country_alpha)\n",
    "\n",
    "    ## Getting response frequencies\n",
    "    select_question_answers = f\"\"\"\n",
    "            SELECT \"B_COUNTRY_ALPHA\",\"Q{question_nr}\", COUNT(\"Q{question_nr}\") FROM QUESTIONS WHERE \"B_COUNTRY_ALPHA\" IN ({country_alpha}) GROUP BY \"B_COUNTRY_ALPHA\",\"Q{question_nr}\" ORDER BY \"B_COUNTRY_ALPHA\"\n",
    "        \"\"\"\n",
    "        \n",
    "    results = PSQL_execute(select_question_answers)\n",
    "\n",
    "    res_df = pd.DataFrame()\n",
    "\n",
    "    for r in results:\n",
    "        country = r[0]\n",
    "        response_code = r[1]\n",
    "        resp_frequency = r[2]\n",
    "\n",
    "        res_df.loc[country,response_code] = resp_frequency\n",
    "\n",
    "    res_df.fillna(0, inplace=True)\n",
    "    res_df.sort_index(axis=1, inplace=True)\n",
    "\n",
    "    ## Getting the answers\n",
    "\n",
    "    # Get the set of response_codes that were possible in the answers, can be different for different countries \n",
    "    nr_columns = list(set(map(lambda a : a[1],results)))\n",
    "   \n",
    "    # Convert the numeric response codes in the answer to text response codes in database\n",
    "    text_columns = \",\".join(list(map(lambda a : answer_dict[a],nr_columns)))\n",
    "\n",
    "    # Answers query\n",
    "    select_answers = f\"\"\"\n",
    "    SELECT q,theme,subtheme,{text_columns} FROM answers WHERE \"q\" = '{question_nr}.0' \n",
    "    \"\"\"\n",
    "    question_legend = PSQL_execute(select_answers)[0]\n",
    "\n",
    "    theme = question_legend[1]\n",
    "    subtheme = question_legend[2]\n",
    "    response_options = question_legend[3:]\n",
    "\n",
    "    resp_dict = {}\n",
    "    for i, response in enumerate(response_options):\n",
    "        resp_dict[nr_columns[i]] = response\n",
    "        \n",
    "    res_df.rename(columns=resp_dict, inplace=True)\n",
    "\n",
    "    res_df['Answers'] = res_df.sum(axis=1)\n",
    "    res_df.iloc[:,:-1] = res_df.iloc[:,:-1].div(res_df['Answers'], axis=0).round(3)\n",
    "\n",
    "    display(res_df)\n",
    "    res_dict = res_df.iloc[:,:].to_dict(orient='split')\n",
    "    \n",
    "    response = {\"question_nr\" : question_nr, \"theme\" : theme, \"subtheme\" : subtheme, \"headers\" : res_dict['columns'], \"countries\" : res_dict['index'], \"rows\" : res_dict['data']}\n",
    "    return json.dumps(response)\n",
    "\n",
    "## Input\n",
    "country_alpha = ['AND','AUS','IRQ']\n",
    "question_nr = 2\n",
    "\n",
    "ask_many_questions(question_nr=33,country_alpha=country_alpha)"
   ]
  },
  {
   "cell_type": "code",
   "execution_count": 657,
   "metadata": {},
   "outputs": [
    {
     "name": "stdout",
     "output_type": "stream",
     "text": [
      "[('JPN', '-1', '-1', 6), ('JPN', '-1', '1', 13), ('JPN', '-1', '2', 8), ('JPN', '-1', '3', 10), ('JPN', '-2', '-1', 1), ('JPN', '-2', '1', 14), ('JPN', '-2', '2', 2), ('JPN', '-2', '3', 8), ('JPN', '0', '-1', 77), ('JPN', '0', '-2', 8), ('JPN', '0', '1', 350), ('JPN', '0', '2', 170), ('JPN', '0', '3', 248), ('JPN', '1', '1', 4), ('JPN', '1', '3', 2), ('JPN', '2', '1', 1), ('JPN', '2', '3', 1), ('JPN', '3', '1', 3), ('JPN', '3', '2', 3), ('JPN', '3', '3', 2), ('JPN', '7', '-1', 13), ('JPN', '7', '-2', 4), ('JPN', '7', '1', 202), ('JPN', '7', '2', 51), ('JPN', '7', '3', 114), ('JPN', '9', '-1', 4), ('JPN', '9', '-2', 1), ('JPN', '9', '1', 17), ('JPN', '9', '2', 7), ('JPN', '9', '3', 9)]\n",
      "['-2', '7', '2', '0', '3', '1', '-1', '9']\n",
      "alt_op_2,op_7,op_2,op_10,op_3,op_1,alt_op_1,op_9\n",
      "[('JPN', '-1', '-1', 6), ('JPN', '-1', '1', 13), ('JPN', '-1', '2', 8), ('JPN', '-1', '3', 10), ('JPN', '-2', '-1', 1), ('JPN', '-2', '1', 14), ('JPN', '-2', '2', 2), ('JPN', '-2', '3', 8), ('JPN', '0', '-1', 77), ('JPN', '0', '-2', 8), ('JPN', '0', '1', 350), ('JPN', '0', '2', 170), ('JPN', '0', '3', 248), ('JPN', '1', '1', 4), ('JPN', '1', '3', 2), ('JPN', '2', '1', 1), ('JPN', '2', '3', 1), ('JPN', '3', '1', 3), ('JPN', '3', '2', 3), ('JPN', '3', '3', 2), ('JPN', '7', '-1', 13), ('JPN', '7', '-2', 4), ('JPN', '7', '1', 202), ('JPN', '7', '2', 51), ('JPN', '7', '3', 114), ('JPN', '9', '-1', 4), ('JPN', '9', '-2', 1), ('JPN', '9', '1', 17), ('JPN', '9', '2', 7), ('JPN', '9', '3', 9)]\n",
      "['-2', '2', '3', '1', '-1']\n",
      "alt_op_2,op_2,op_3,op_1,alt_op_1\n",
      "Index question (Q1) - Religious denominations -: 0 {'-2': 'No answer/refused', '7': 'Buddhist', '2': 'Protestant', '10': 'Do not belong to a denomination', '3': 'Orthodox (Russian/Greek/etc.)', '1': 'Roman Catholic', '-1': \"Don't know\", '9': 'Other'}\n",
      "Column question (Q2) - Q46: Social Capital {'-2': 'No answer', '2': 'Worse off', '3': 'Or about the same', '1': 'Better off', '-1': \"Don't know\"}\n"
     ]
    },
    {
     "data": {
      "text/html": [
       "<style  type=\"text/css\" >\n",
       "</style><table id=\"T_68db6f26_b393_11ec_9dbc_88e9fe6bd98f\" ><thead>    <tr>        <th class=\"blank level0\" ></th>        <th class=\"col_heading level0 col0\" >Don't know</th>        <th class=\"col_heading level0 col1\" >Better off</th>        <th class=\"col_heading level0 col2\" >Worse off</th>        <th class=\"col_heading level0 col3\" >Or about the same</th>        <th class=\"col_heading level0 col4\" >No answer</th>    </tr></thead><tbody>\n",
       "                <tr>\n",
       "                        <th id=\"T_68db6f26_b393_11ec_9dbc_88e9fe6bd98flevel0_row0\" class=\"row_heading level0 row0\" >Don't know</th>\n",
       "                        <td id=\"T_68db6f26_b393_11ec_9dbc_88e9fe6bd98frow0_col0\" class=\"data row0 col0\" >16.22%</td>\n",
       "                        <td id=\"T_68db6f26_b393_11ec_9dbc_88e9fe6bd98frow0_col1\" class=\"data row0 col1\" >35.14%</td>\n",
       "                        <td id=\"T_68db6f26_b393_11ec_9dbc_88e9fe6bd98frow0_col2\" class=\"data row0 col2\" >21.62%</td>\n",
       "                        <td id=\"T_68db6f26_b393_11ec_9dbc_88e9fe6bd98frow0_col3\" class=\"data row0 col3\" >27.03%</td>\n",
       "                        <td id=\"T_68db6f26_b393_11ec_9dbc_88e9fe6bd98frow0_col4\" class=\"data row0 col4\" >0.00%</td>\n",
       "            </tr>\n",
       "            <tr>\n",
       "                        <th id=\"T_68db6f26_b393_11ec_9dbc_88e9fe6bd98flevel0_row1\" class=\"row_heading level0 row1\" >No answer/refused</th>\n",
       "                        <td id=\"T_68db6f26_b393_11ec_9dbc_88e9fe6bd98frow1_col0\" class=\"data row1 col0\" >4.00%</td>\n",
       "                        <td id=\"T_68db6f26_b393_11ec_9dbc_88e9fe6bd98frow1_col1\" class=\"data row1 col1\" >56.00%</td>\n",
       "                        <td id=\"T_68db6f26_b393_11ec_9dbc_88e9fe6bd98frow1_col2\" class=\"data row1 col2\" >8.00%</td>\n",
       "                        <td id=\"T_68db6f26_b393_11ec_9dbc_88e9fe6bd98frow1_col3\" class=\"data row1 col3\" >32.00%</td>\n",
       "                        <td id=\"T_68db6f26_b393_11ec_9dbc_88e9fe6bd98frow1_col4\" class=\"data row1 col4\" >0.00%</td>\n",
       "            </tr>\n",
       "            <tr>\n",
       "                        <th id=\"T_68db6f26_b393_11ec_9dbc_88e9fe6bd98flevel0_row2\" class=\"row_heading level0 row2\" >0</th>\n",
       "                        <td id=\"T_68db6f26_b393_11ec_9dbc_88e9fe6bd98frow2_col0\" class=\"data row2 col0\" >9.03%</td>\n",
       "                        <td id=\"T_68db6f26_b393_11ec_9dbc_88e9fe6bd98frow2_col1\" class=\"data row2 col1\" >41.03%</td>\n",
       "                        <td id=\"T_68db6f26_b393_11ec_9dbc_88e9fe6bd98frow2_col2\" class=\"data row2 col2\" >19.93%</td>\n",
       "                        <td id=\"T_68db6f26_b393_11ec_9dbc_88e9fe6bd98frow2_col3\" class=\"data row2 col3\" >29.07%</td>\n",
       "                        <td id=\"T_68db6f26_b393_11ec_9dbc_88e9fe6bd98frow2_col4\" class=\"data row2 col4\" >0.94%</td>\n",
       "            </tr>\n",
       "            <tr>\n",
       "                        <th id=\"T_68db6f26_b393_11ec_9dbc_88e9fe6bd98flevel0_row3\" class=\"row_heading level0 row3\" >Roman Catholic</th>\n",
       "                        <td id=\"T_68db6f26_b393_11ec_9dbc_88e9fe6bd98frow3_col0\" class=\"data row3 col0\" >0.00%</td>\n",
       "                        <td id=\"T_68db6f26_b393_11ec_9dbc_88e9fe6bd98frow3_col1\" class=\"data row3 col1\" >66.67%</td>\n",
       "                        <td id=\"T_68db6f26_b393_11ec_9dbc_88e9fe6bd98frow3_col2\" class=\"data row3 col2\" >0.00%</td>\n",
       "                        <td id=\"T_68db6f26_b393_11ec_9dbc_88e9fe6bd98frow3_col3\" class=\"data row3 col3\" >33.33%</td>\n",
       "                        <td id=\"T_68db6f26_b393_11ec_9dbc_88e9fe6bd98frow3_col4\" class=\"data row3 col4\" >0.00%</td>\n",
       "            </tr>\n",
       "            <tr>\n",
       "                        <th id=\"T_68db6f26_b393_11ec_9dbc_88e9fe6bd98flevel0_row4\" class=\"row_heading level0 row4\" >Protestant</th>\n",
       "                        <td id=\"T_68db6f26_b393_11ec_9dbc_88e9fe6bd98frow4_col0\" class=\"data row4 col0\" >0.00%</td>\n",
       "                        <td id=\"T_68db6f26_b393_11ec_9dbc_88e9fe6bd98frow4_col1\" class=\"data row4 col1\" >50.00%</td>\n",
       "                        <td id=\"T_68db6f26_b393_11ec_9dbc_88e9fe6bd98frow4_col2\" class=\"data row4 col2\" >0.00%</td>\n",
       "                        <td id=\"T_68db6f26_b393_11ec_9dbc_88e9fe6bd98frow4_col3\" class=\"data row4 col3\" >50.00%</td>\n",
       "                        <td id=\"T_68db6f26_b393_11ec_9dbc_88e9fe6bd98frow4_col4\" class=\"data row4 col4\" >0.00%</td>\n",
       "            </tr>\n",
       "            <tr>\n",
       "                        <th id=\"T_68db6f26_b393_11ec_9dbc_88e9fe6bd98flevel0_row5\" class=\"row_heading level0 row5\" >Orthodox (Russian/Greek/etc.)</th>\n",
       "                        <td id=\"T_68db6f26_b393_11ec_9dbc_88e9fe6bd98frow5_col0\" class=\"data row5 col0\" >0.00%</td>\n",
       "                        <td id=\"T_68db6f26_b393_11ec_9dbc_88e9fe6bd98frow5_col1\" class=\"data row5 col1\" >37.50%</td>\n",
       "                        <td id=\"T_68db6f26_b393_11ec_9dbc_88e9fe6bd98frow5_col2\" class=\"data row5 col2\" >37.50%</td>\n",
       "                        <td id=\"T_68db6f26_b393_11ec_9dbc_88e9fe6bd98frow5_col3\" class=\"data row5 col3\" >25.00%</td>\n",
       "                        <td id=\"T_68db6f26_b393_11ec_9dbc_88e9fe6bd98frow5_col4\" class=\"data row5 col4\" >0.00%</td>\n",
       "            </tr>\n",
       "            <tr>\n",
       "                        <th id=\"T_68db6f26_b393_11ec_9dbc_88e9fe6bd98flevel0_row6\" class=\"row_heading level0 row6\" >Buddhist</th>\n",
       "                        <td id=\"T_68db6f26_b393_11ec_9dbc_88e9fe6bd98frow6_col0\" class=\"data row6 col0\" >3.39%</td>\n",
       "                        <td id=\"T_68db6f26_b393_11ec_9dbc_88e9fe6bd98frow6_col1\" class=\"data row6 col1\" >52.60%</td>\n",
       "                        <td id=\"T_68db6f26_b393_11ec_9dbc_88e9fe6bd98frow6_col2\" class=\"data row6 col2\" >13.28%</td>\n",
       "                        <td id=\"T_68db6f26_b393_11ec_9dbc_88e9fe6bd98frow6_col3\" class=\"data row6 col3\" >29.69%</td>\n",
       "                        <td id=\"T_68db6f26_b393_11ec_9dbc_88e9fe6bd98frow6_col4\" class=\"data row6 col4\" >1.04%</td>\n",
       "            </tr>\n",
       "            <tr>\n",
       "                        <th id=\"T_68db6f26_b393_11ec_9dbc_88e9fe6bd98flevel0_row7\" class=\"row_heading level0 row7\" >Other</th>\n",
       "                        <td id=\"T_68db6f26_b393_11ec_9dbc_88e9fe6bd98frow7_col0\" class=\"data row7 col0\" >10.53%</td>\n",
       "                        <td id=\"T_68db6f26_b393_11ec_9dbc_88e9fe6bd98frow7_col1\" class=\"data row7 col1\" >44.74%</td>\n",
       "                        <td id=\"T_68db6f26_b393_11ec_9dbc_88e9fe6bd98frow7_col2\" class=\"data row7 col2\" >18.42%</td>\n",
       "                        <td id=\"T_68db6f26_b393_11ec_9dbc_88e9fe6bd98frow7_col3\" class=\"data row7 col3\" >23.68%</td>\n",
       "                        <td id=\"T_68db6f26_b393_11ec_9dbc_88e9fe6bd98frow7_col4\" class=\"data row7 col4\" >2.63%</td>\n",
       "            </tr>\n",
       "    </tbody></table>"
      ],
      "text/plain": [
       "<pandas.io.formats.style.Styler at 0x7fb6a3a01cd0>"
      ]
     },
     "metadata": {},
     "output_type": "display_data"
    }
   ],
   "source": [
    "def convert_response_code_to_text(question_nr, question_position, results):\n",
    "# Get the set of response_codes that were possible in the answers, can be different for different countries \n",
    "    nr_columns = list(set(map(lambda a : a[question_position],results)))\n",
    "    print(results)\n",
    "    print(nr_columns)\n",
    "    \n",
    "    if int(question_nr) == 289:\n",
    "        for i in range(len(nr_columns)):\n",
    "            if int(nr_columns[i]) == 0:\n",
    "                nr_columns[i] = '10'\n",
    "   \n",
    "    # Convert the numeric response codes in the answer to text response codes in database\n",
    "    text_columns = \",\".join(list(map(lambda a : answer_dict[a],nr_columns)))\n",
    "     \n",
    "    print(text_columns)\n",
    "\n",
    "    # Answers query\n",
    "    select_answers = f\"\"\"\n",
    "    SELECT q,theme,subtheme,{text_columns} FROM answers WHERE \"q\" = '{question_nr}.0' \n",
    "    \"\"\"\n",
    "    \n",
    "    question_legend = PSQL_execute(select_answers)[0]\n",
    "\n",
    "    # Split out theme, subtheme and response options from question legend\n",
    "    theme = question_legend[1]\n",
    "    subtheme = question_legend[2]\n",
    "    response_options = question_legend[3:]\n",
    "\n",
    "    resp_dict = {}\n",
    "    for i, response in enumerate(response_options):\n",
    "        resp_dict[nr_columns[i]] = response\n",
    "        \n",
    "    return resp_dict, theme, subtheme\n",
    "\n",
    "def cross_questions(question_nr_1, question_nr_2, country):\n",
    "    # Query for selecting two questions, with count of second and grouping by questions\n",
    "    select_cross_questions = f\"\"\"SELECT \"B_COUNTRY_ALPHA\", \"Q{question_nr_1}\",\"Q{question_nr_2}\", COUNT(\"Q{question_nr_2}\") FROM questions_large WHERE \"B_COUNTRY_ALPHA\" = '{country}' GROUP BY \"B_COUNTRY_ALPHA\", \"Q{question_nr_1}\",\"Q{question_nr_2}\" LIMIT 40;\n",
    "    \"\"\"\n",
    "    results = PSQL_execute(select_cross_questions)\n",
    "    res_df = pd.DataFrame()\n",
    "    \n",
    "    # Adding response to dataframe\n",
    "    for r in results:\n",
    "        res_df.loc[r[1],r[2]] = float(r[3])\n",
    "    \n",
    "    res_df.fillna(value=0, inplace=True)\n",
    "    res_df.sort_index(axis=0, inplace=True)\n",
    "    \n",
    "    # Split out index labels, theme, subtheme for each questions\n",
    "    index_text, theme_1, subtheme_1 = convert_response_code_to_text(question_nr_1, 1, results)\n",
    "    column_text, theme_2, subtheme_2 = convert_response_code_to_text(question_nr_2, 2, results)\n",
    "\n",
    "    print('Index question (Q1) - ' + theme_1 + ': ' + subtheme_1 + ' ' + str(index_text))\n",
    "    print('Column question (Q2) - ' + theme_2 + ': ' + subtheme_2 + ' ' + str(column_text))\n",
    "\n",
    "    # Rename index and column\n",
    "    res_df.rename(index_text, axis=0, inplace=True)\n",
    "    res_df.rename(column_text, axis=1, inplace =True)\n",
    "    \n",
    "    # Add total column and convert others two percentages\n",
    "    totals = res_df.sum(axis=1)\n",
    "    res_df = res_df.div(res_df.sum(axis=1), axis=0)#.style.format(\"{:.2%}\")\n",
    "    res_df['Respondents'] = totals\n",
    "    \n",
    "    display(res_df.iloc[:,:-1].style.format(\"{:.2%}\"))\n",
    "    return res_df\n",
    "\n",
    "test_mat= cross_questions(289,56,'JPN')"
   ]
  },
  {
   "cell_type": "code",
   "execution_count": 632,
   "metadata": {},
   "outputs": [
    {
     "data": {
      "text/html": [
       "<div>\n",
       "<style scoped>\n",
       "    .dataframe tbody tr th:only-of-type {\n",
       "        vertical-align: middle;\n",
       "    }\n",
       "\n",
       "    .dataframe tbody tr th {\n",
       "        vertical-align: top;\n",
       "    }\n",
       "\n",
       "    .dataframe thead th {\n",
       "        text-align: right;\n",
       "    }\n",
       "</style>\n",
       "<table border=\"1\" class=\"dataframe\">\n",
       "  <thead>\n",
       "    <tr style=\"text-align: right;\">\n",
       "      <th></th>\n",
       "      <th>Good thing</th>\n",
       "      <th>Don't mind</th>\n",
       "      <th>Bad thing</th>\n",
       "      <th>Don't know</th>\n",
       "    </tr>\n",
       "  </thead>\n",
       "  <tbody>\n",
       "    <tr>\n",
       "      <th>Roman Catholic</th>\n",
       "      <td>0.781250</td>\n",
       "      <td>0.109375</td>\n",
       "      <td>0.109375</td>\n",
       "      <td>0.00000</td>\n",
       "    </tr>\n",
       "    <tr>\n",
       "      <th>Orthodox (Russian/Greek/etc.)</th>\n",
       "      <td>0.792683</td>\n",
       "      <td>0.073171</td>\n",
       "      <td>0.134146</td>\n",
       "      <td>0.00000</td>\n",
       "    </tr>\n",
       "    <tr>\n",
       "      <th>Muslim</th>\n",
       "      <td>0.784932</td>\n",
       "      <td>0.134247</td>\n",
       "      <td>0.078082</td>\n",
       "      <td>0.00274</td>\n",
       "    </tr>\n",
       "    <tr>\n",
       "      <th>Other Christian (Evangelical/Pentecostal/Fee church/etc.)</th>\n",
       "      <td>0.846875</td>\n",
       "      <td>0.059375</td>\n",
       "      <td>0.093750</td>\n",
       "      <td>0.00000</td>\n",
       "    </tr>\n",
       "    <tr>\n",
       "      <th>Other</th>\n",
       "      <td>1.000000</td>\n",
       "      <td>0.000000</td>\n",
       "      <td>0.000000</td>\n",
       "      <td>0.00000</td>\n",
       "    </tr>\n",
       "  </tbody>\n",
       "</table>\n",
       "</div>"
      ],
      "text/plain": [
       "                                                    Good thing  Don't mind  \\\n",
       "Roman Catholic                                        0.781250    0.109375   \n",
       "Orthodox (Russian/Greek/etc.)                         0.792683    0.073171   \n",
       "Muslim                                                0.784932    0.134247   \n",
       "Other Christian (Evangelical/Pentecostal/Fee ch...    0.846875    0.059375   \n",
       "Other                                                 1.000000    0.000000   \n",
       "\n",
       "                                                    Bad thing  Don't know  \n",
       "Roman Catholic                                       0.109375     0.00000  \n",
       "Orthodox (Russian/Greek/etc.)                        0.134146     0.00000  \n",
       "Muslim                                               0.078082     0.00274  \n",
       "Other Christian (Evangelical/Pentecostal/Fee ch...   0.093750     0.00000  \n",
       "Other                                                0.000000     0.00000  "
      ]
     },
     "execution_count": 632,
     "metadata": {},
     "output_type": "execute_result"
    }
   ],
   "source": [
    "test_mat.iloc[:,:-1]"
   ]
  },
  {
   "cell_type": "code",
   "execution_count": 649,
   "metadata": {},
   "outputs": [
    {
     "data": {
      "text/html": [
       "<style  type=\"text/css\" >\n",
       "</style><table id=\"T_fc062bc2_b390_11ec_9dbc_88e9fe6bd98f\" ><thead>    <tr>        <th class=\"blank level0\" ></th>        <th class=\"col_heading level0 col0\" >No answer</th>        <th class=\"col_heading level0 col1\" >Better off</th>        <th class=\"col_heading level0 col2\" >Worse off</th>        <th class=\"col_heading level0 col3\" >Or about the same</th>        <th class=\"col_heading level0 col4\" >Respondents</th>    </tr></thead><tbody>\n",
       "                <tr>\n",
       "                        <th id=\"T_fc062bc2_b390_11ec_9dbc_88e9fe6bd98flevel0_row0\" class=\"row_heading level0 row0\" >Don't know</th>\n",
       "                        <td id=\"T_fc062bc2_b390_11ec_9dbc_88e9fe6bd98frow0_col0\" class=\"data row0 col0\" >9.38%</td>\n",
       "                        <td id=\"T_fc062bc2_b390_11ec_9dbc_88e9fe6bd98frow0_col1\" class=\"data row0 col1\" >25.50%</td>\n",
       "                        <td id=\"T_fc062bc2_b390_11ec_9dbc_88e9fe6bd98frow0_col2\" class=\"data row0 col2\" >25.82%</td>\n",
       "                        <td id=\"T_fc062bc2_b390_11ec_9dbc_88e9fe6bd98frow0_col3\" class=\"data row0 col3\" >25.01%</td>\n",
       "                        <td id=\"T_fc062bc2_b390_11ec_9dbc_88e9fe6bd98frow0_col4\" class=\"data row0 col4\" >3.78%</td>\n",
       "            </tr>\n",
       "            <tr>\n",
       "                        <th id=\"T_fc062bc2_b390_11ec_9dbc_88e9fe6bd98flevel0_row1\" class=\"row_heading level0 row1\" >No answer</th>\n",
       "                        <td id=\"T_fc062bc2_b390_11ec_9dbc_88e9fe6bd98frow1_col0\" class=\"data row1 col0\" >87.52%</td>\n",
       "                        <td id=\"T_fc062bc2_b390_11ec_9dbc_88e9fe6bd98frow1_col1\" class=\"data row1 col1\" >15.01%</td>\n",
       "                        <td id=\"T_fc062bc2_b390_11ec_9dbc_88e9fe6bd98frow1_col2\" class=\"data row1 col2\" >33.24%</td>\n",
       "                        <td id=\"T_fc062bc2_b390_11ec_9dbc_88e9fe6bd98frow1_col3\" class=\"data row1 col3\" >23.85%</td>\n",
       "                        <td id=\"T_fc062bc2_b390_11ec_9dbc_88e9fe6bd98frow1_col4\" class=\"data row1 col4\" >2.43%</td>\n",
       "            </tr>\n",
       "            <tr>\n",
       "                        <th id=\"T_fc062bc2_b390_11ec_9dbc_88e9fe6bd98flevel0_row2\" class=\"row_heading level0 row2\" >Mentioned</th>\n",
       "                        <td id=\"T_fc062bc2_b390_11ec_9dbc_88e9fe6bd98frow2_col0\" class=\"data row2 col0\" >0.00%</td>\n",
       "                        <td id=\"T_fc062bc2_b390_11ec_9dbc_88e9fe6bd98frow2_col1\" class=\"data row2 col1\" >27.22%</td>\n",
       "                        <td id=\"T_fc062bc2_b390_11ec_9dbc_88e9fe6bd98frow2_col2\" class=\"data row2 col2\" >23.44%</td>\n",
       "                        <td id=\"T_fc062bc2_b390_11ec_9dbc_88e9fe6bd98frow2_col3\" class=\"data row2 col3\" >25.96%</td>\n",
       "                        <td id=\"T_fc062bc2_b390_11ec_9dbc_88e9fe6bd98frow2_col4\" class=\"data row2 col4\" >2.58%</td>\n",
       "            </tr>\n",
       "            <tr>\n",
       "                        <th id=\"T_fc062bc2_b390_11ec_9dbc_88e9fe6bd98flevel0_row3\" class=\"row_heading level0 row3\" >Not mentioned</th>\n",
       "                        <td id=\"T_fc062bc2_b390_11ec_9dbc_88e9fe6bd98frow3_col0\" class=\"data row3 col0\" >3.10%</td>\n",
       "                        <td id=\"T_fc062bc2_b390_11ec_9dbc_88e9fe6bd98frow3_col1\" class=\"data row3 col1\" >32.26%</td>\n",
       "                        <td id=\"T_fc062bc2_b390_11ec_9dbc_88e9fe6bd98frow3_col2\" class=\"data row3 col2\" >17.50%</td>\n",
       "                        <td id=\"T_fc062bc2_b390_11ec_9dbc_88e9fe6bd98frow3_col3\" class=\"data row3 col3\" >25.18%</td>\n",
       "                        <td id=\"T_fc062bc2_b390_11ec_9dbc_88e9fe6bd98frow3_col4\" class=\"data row3 col4\" >91.22%</td>\n",
       "            </tr>\n",
       "    </tbody></table>"
      ],
      "text/plain": [
       "<pandas.io.formats.style.Styler at 0x7fb6a3a27050>"
      ]
     },
     "execution_count": 649,
     "metadata": {},
     "output_type": "execute_result"
    }
   ],
   "source": [
    "test_mat.div(test_mat.sum(axis=0), axis=1).style.format(\"{:.2%}\")"
   ]
  },
  {
   "cell_type": "code",
   "execution_count": 651,
   "metadata": {},
   "outputs": [
    {
     "data": {
      "text/plain": [
       "['alt_op_1', 'alt_op_2', 'op_1', 'op_2', 'op_3', 'op_4']"
      ]
     },
     "execution_count": 651,
     "metadata": {},
     "output_type": "execute_result"
    }
   ],
   "source": [
    "list(map(lambda a : answer_dict[a],nr_columns))"
   ]
  },
  {
   "cell_type": "code",
   "execution_count": 401,
   "metadata": {},
   "outputs": [
    {
     "data": {
      "text/html": [
       "<div>\n",
       "<style scoped>\n",
       "    .dataframe tbody tr th:only-of-type {\n",
       "        vertical-align: middle;\n",
       "    }\n",
       "\n",
       "    .dataframe tbody tr th {\n",
       "        vertical-align: top;\n",
       "    }\n",
       "\n",
       "    .dataframe thead th {\n",
       "        text-align: right;\n",
       "    }\n",
       "</style>\n",
       "<table border=\"1\" class=\"dataframe\">\n",
       "  <thead>\n",
       "    <tr style=\"text-align: right;\">\n",
       "      <th></th>\n",
       "      <th>Rather important</th>\n",
       "      <th>Very important</th>\n",
       "      <th>Not at all important</th>\n",
       "      <th>Not very important</th>\n",
       "      <th>No answer</th>\n",
       "      <th>Don't know</th>\n",
       "      <th>Answers</th>\n",
       "    </tr>\n",
       "  </thead>\n",
       "  <tbody>\n",
       "    <tr>\n",
       "      <th>AUS</th>\n",
       "      <td>0.379</td>\n",
       "      <td>0.552</td>\n",
       "      <td>0.002</td>\n",
       "      <td>0.041</td>\n",
       "      <td>0.026</td>\n",
       "      <td>0.000</td>\n",
       "      <td>1813.0</td>\n",
       "    </tr>\n",
       "    <tr>\n",
       "      <th>IRQ</th>\n",
       "      <td>0.365</td>\n",
       "      <td>0.537</td>\n",
       "      <td>0.027</td>\n",
       "      <td>0.070</td>\n",
       "      <td>0.000</td>\n",
       "      <td>0.002</td>\n",
       "      <td>1200.0</td>\n",
       "    </tr>\n",
       "    <tr>\n",
       "      <th>JPN</th>\n",
       "      <td>0.506</td>\n",
       "      <td>0.404</td>\n",
       "      <td>0.009</td>\n",
       "      <td>0.068</td>\n",
       "      <td>0.011</td>\n",
       "      <td>0.002</td>\n",
       "      <td>1353.0</td>\n",
       "    </tr>\n",
       "    <tr>\n",
       "      <th>TWN</th>\n",
       "      <td>0.523</td>\n",
       "      <td>0.396</td>\n",
       "      <td>0.008</td>\n",
       "      <td>0.073</td>\n",
       "      <td>0.000</td>\n",
       "      <td>0.000</td>\n",
       "      <td>1223.0</td>\n",
       "    </tr>\n",
       "  </tbody>\n",
       "</table>\n",
       "</div>"
      ],
      "text/plain": [
       "     Rather important  Very important  Not at all important  \\\n",
       "AUS             0.379           0.552                 0.002   \n",
       "IRQ             0.365           0.537                 0.027   \n",
       "JPN             0.506           0.404                 0.009   \n",
       "TWN             0.523           0.396                 0.008   \n",
       "\n",
       "     Not very important  No answer  Don't know  Answers  \n",
       "AUS               0.041      0.026       0.000   1813.0  \n",
       "IRQ               0.070      0.000       0.002   1200.0  \n",
       "JPN               0.068      0.011       0.002   1353.0  \n",
       "TWN               0.073      0.000       0.000   1223.0  "
      ]
     },
     "execution_count": 401,
     "metadata": {},
     "output_type": "execute_result"
    }
   ],
   "source": [
    "res_df['Answers'] = res_df.sum(axis=1)\n",
    "res_df.iloc[:,:-1] = res_df.iloc[:,:-1].div(res_df['Answers'], axis=0).round(3)"
   ]
  },
  {
   "cell_type": "code",
   "execution_count": 468,
   "metadata": {},
   "outputs": [
    {
     "data": {
      "text/plain": [
       "'{\"question_nr\": 2, \"theme\": \"Important in life\", \"subtheme\": \" Friends\", \"headers\": [\"Rather important\", \"Very important\", \"Not at all important\", \"Not very important\", \"No answer\", \"Don\\'t know\", \"Answers\"], \"countries\": [\"AUS\", \"IRQ\", \"JPN\", \"TWN\"], \"rows\": [[0.379, 0.552, 0.002, 0.041, 0.026, 0.0, 1813.0], [0.365, 0.537, 0.027, 0.07, 0.0, 0.002, 1200.0], [0.506, 0.404, 0.009, 0.068, 0.011, 0.002, 1353.0], [0.523, 0.396, 0.008, 0.073, 0.0, 0.0, 1223.0]]}'"
      ]
     },
     "execution_count": 468,
     "metadata": {},
     "output_type": "execute_result"
    }
   ],
   "source": [
    "response = {\"question_nr\" : question_nr, \"theme\" : theme, \"subtheme\" : subtheme, \"headers\" : res_dict['columns'], \"countries\" : res_dict['index'], \"rows\" : res_dict['data']}\n",
    "json.dumps(response)"
   ]
  },
  {
   "cell_type": "code",
   "execution_count": 463,
   "metadata": {},
   "outputs": [
    {
     "data": {
      "text/plain": [
       "'{\"index\": [\"AUS\", \"IRQ\", \"JPN\", \"TWN\"], \"columns\": [\"Rather important\", \"Very important\", \"Not at all important\", \"Not very important\", \"No answer\", \"Don\\'t know\", \"Answers\"], \"data\": [[0.379, 0.552, 0.002, 0.041, 0.026, 0.0, 1813.0], [0.365, 0.537, 0.027, 0.07, 0.0, 0.002, 1200.0], [0.506, 0.404, 0.009, 0.068, 0.011, 0.002, 1353.0], [0.523, 0.396, 0.008, 0.073, 0.0, 0.0, 1223.0]]}'"
      ]
     },
     "execution_count": 463,
     "metadata": {},
     "output_type": "execute_result"
    }
   ],
   "source": [
    "res_dict = res_df.iloc[:,:].to_dict(orient='split')\n",
    "json.dumps(res_dict)"
   ]
  },
  {
   "cell_type": "code",
   "execution_count": 448,
   "metadata": {},
   "outputs": [
    {
     "data": {
      "text/plain": [
       "'{\"headers\":[\"Rather important\",\"Very important\",\"Not at all important\",\"Not very important\",\"No answer\",\"Don\\'t know\",\"Answers\"],\"index\":[\"AUS\",\"IRQ\",\"JPN\",\"TWN\"],\"rows\":[[0.379,0.552,0.002,0.041,0.026,0.0,1813.0],[0.365,0.537,0.027,0.07,0.0,0.002,1200.0],[0.506,0.404,0.009,0.068,0.011,0.002,1353.0],[0.523,0.396,0.008,0.073,0.0,0.0,1223.0]]}'"
      ]
     },
     "execution_count": 448,
     "metadata": {},
     "output_type": "execute_result"
    }
   ],
   "source": [
    "res_json.replace(\"Don't\",\"Don't\")"
   ]
  },
  {
   "cell_type": "code",
   "execution_count": 422,
   "metadata": {},
   "outputs": [
    {
     "data": {
      "text/html": [
       "<div>\n",
       "<style scoped>\n",
       "    .dataframe tbody tr th:only-of-type {\n",
       "        vertical-align: middle;\n",
       "    }\n",
       "\n",
       "    .dataframe tbody tr th {\n",
       "        vertical-align: top;\n",
       "    }\n",
       "\n",
       "    .dataframe thead th {\n",
       "        text-align: right;\n",
       "    }\n",
       "</style>\n",
       "<table border=\"1\" class=\"dataframe\">\n",
       "  <thead>\n",
       "    <tr style=\"text-align: right;\">\n",
       "      <th></th>\n",
       "      <th>Very important</th>\n",
       "      <th>Not at all important</th>\n",
       "      <th>Not very important</th>\n",
       "      <th>No answer</th>\n",
       "      <th>Don't know</th>\n",
       "      <th>Answers</th>\n",
       "    </tr>\n",
       "  </thead>\n",
       "  <tbody>\n",
       "    <tr>\n",
       "      <th>AUS</th>\n",
       "      <td>0.552</td>\n",
       "      <td>0.002</td>\n",
       "      <td>0.041</td>\n",
       "      <td>0.026</td>\n",
       "      <td>0.000</td>\n",
       "      <td>1813.0</td>\n",
       "    </tr>\n",
       "    <tr>\n",
       "      <th>IRQ</th>\n",
       "      <td>0.537</td>\n",
       "      <td>0.027</td>\n",
       "      <td>0.070</td>\n",
       "      <td>0.000</td>\n",
       "      <td>0.002</td>\n",
       "      <td>1200.0</td>\n",
       "    </tr>\n",
       "    <tr>\n",
       "      <th>JPN</th>\n",
       "      <td>0.404</td>\n",
       "      <td>0.009</td>\n",
       "      <td>0.068</td>\n",
       "      <td>0.011</td>\n",
       "      <td>0.002</td>\n",
       "      <td>1353.0</td>\n",
       "    </tr>\n",
       "    <tr>\n",
       "      <th>TWN</th>\n",
       "      <td>0.396</td>\n",
       "      <td>0.008</td>\n",
       "      <td>0.073</td>\n",
       "      <td>0.000</td>\n",
       "      <td>0.000</td>\n",
       "      <td>1223.0</td>\n",
       "    </tr>\n",
       "  </tbody>\n",
       "</table>\n",
       "</div>"
      ],
      "text/plain": [
       "     Very important  Not at all important  Not very important  No answer  \\\n",
       "AUS           0.552                 0.002               0.041      0.026   \n",
       "IRQ           0.537                 0.027               0.070      0.000   \n",
       "JPN           0.404                 0.009               0.068      0.011   \n",
       "TWN           0.396                 0.008               0.073      0.000   \n",
       "\n",
       "     Don't know  Answers  \n",
       "AUS       0.000   1813.0  \n",
       "IRQ       0.002   1200.0  \n",
       "JPN       0.002   1353.0  \n",
       "TWN       0.000   1223.0  "
      ]
     },
     "execution_count": 422,
     "metadata": {},
     "output_type": "execute_result"
    }
   ],
   "source": [
    "res_df.iloc[:,:]"
   ]
  },
  {
   "cell_type": "code",
   "execution_count": 371,
   "metadata": {},
   "outputs": [
    {
     "name": "stdout",
     "output_type": "stream",
     "text": [
      "2.0\n",
      "Important in life\n",
      " Friends\n"
     ]
    },
    {
     "data": {
      "text/html": [
       "<div>\n",
       "<style scoped>\n",
       "    .dataframe tbody tr th:only-of-type {\n",
       "        vertical-align: middle;\n",
       "    }\n",
       "\n",
       "    .dataframe tbody tr th {\n",
       "        vertical-align: top;\n",
       "    }\n",
       "\n",
       "    .dataframe thead th {\n",
       "        text-align: right;\n",
       "    }\n",
       "</style>\n",
       "<table border=\"1\" class=\"dataframe\">\n",
       "  <thead>\n",
       "    <tr style=\"text-align: right;\">\n",
       "      <th></th>\n",
       "      <th>Rather important</th>\n",
       "      <th>Very important</th>\n",
       "      <th>Not at all important</th>\n",
       "      <th>Not very important</th>\n",
       "      <th>No answer</th>\n",
       "      <th>Don't know</th>\n",
       "    </tr>\n",
       "  </thead>\n",
       "  <tbody>\n",
       "    <tr>\n",
       "      <th>AUS</th>\n",
       "      <td>687.0</td>\n",
       "      <td>1001.0</td>\n",
       "      <td>4.0</td>\n",
       "      <td>74.0</td>\n",
       "      <td>47.0</td>\n",
       "      <td>0.0</td>\n",
       "    </tr>\n",
       "    <tr>\n",
       "      <th>IRQ</th>\n",
       "      <td>438.0</td>\n",
       "      <td>644.0</td>\n",
       "      <td>32.0</td>\n",
       "      <td>84.0</td>\n",
       "      <td>0.0</td>\n",
       "      <td>2.0</td>\n",
       "    </tr>\n",
       "    <tr>\n",
       "      <th>JPN</th>\n",
       "      <td>684.0</td>\n",
       "      <td>547.0</td>\n",
       "      <td>12.0</td>\n",
       "      <td>92.0</td>\n",
       "      <td>15.0</td>\n",
       "      <td>3.0</td>\n",
       "    </tr>\n",
       "    <tr>\n",
       "      <th>TWN</th>\n",
       "      <td>640.0</td>\n",
       "      <td>484.0</td>\n",
       "      <td>10.0</td>\n",
       "      <td>89.0</td>\n",
       "      <td>0.0</td>\n",
       "      <td>0.0</td>\n",
       "    </tr>\n",
       "  </tbody>\n",
       "</table>\n",
       "</div>"
      ],
      "text/plain": [
       "     Rather important  Very important  Not at all important  \\\n",
       "AUS             687.0          1001.0                   4.0   \n",
       "IRQ             438.0           644.0                  32.0   \n",
       "JPN             684.0           547.0                  12.0   \n",
       "TWN             640.0           484.0                  10.0   \n",
       "\n",
       "     Not very important  No answer  Don't know  \n",
       "AUS                74.0       47.0         0.0  \n",
       "IRQ                84.0        0.0         2.0  \n",
       "JPN                92.0       15.0         3.0  \n",
       "TWN                89.0        0.0         0.0  "
      ]
     },
     "metadata": {},
     "output_type": "display_data"
    }
   ],
   "source": [
    "print(question)\n",
    "print(theme)\n",
    "print(subtheme)\n",
    "display(res_df)"
   ]
  },
  {
   "cell_type": "code",
   "execution_count": 336,
   "metadata": {},
   "outputs": [
    {
     "data": {
      "text/html": [
       "<div>\n",
       "<style scoped>\n",
       "    .dataframe tbody tr th:only-of-type {\n",
       "        vertical-align: middle;\n",
       "    }\n",
       "\n",
       "    .dataframe tbody tr th {\n",
       "        vertical-align: top;\n",
       "    }\n",
       "\n",
       "    .dataframe thead th {\n",
       "        text-align: right;\n",
       "    }\n",
       "</style>\n",
       "<table border=\"1\" class=\"dataframe\">\n",
       "  <thead>\n",
       "    <tr style=\"text-align: right;\">\n",
       "      <th></th>\n",
       "      <th>Rather important</th>\n",
       "      <th>Very important</th>\n",
       "      <th>Not at all important</th>\n",
       "      <th>Not very important</th>\n",
       "      <th>No answer</th>\n",
       "      <th>Don't know</th>\n",
       "    </tr>\n",
       "  </thead>\n",
       "  <tbody>\n",
       "    <tr>\n",
       "      <th>AUS</th>\n",
       "      <td>687.0</td>\n",
       "      <td>1001.0</td>\n",
       "      <td>4.0</td>\n",
       "      <td>74.0</td>\n",
       "      <td>47.0</td>\n",
       "      <td>0.0</td>\n",
       "    </tr>\n",
       "    <tr>\n",
       "      <th>IRQ</th>\n",
       "      <td>438.0</td>\n",
       "      <td>644.0</td>\n",
       "      <td>32.0</td>\n",
       "      <td>84.0</td>\n",
       "      <td>0.0</td>\n",
       "      <td>2.0</td>\n",
       "    </tr>\n",
       "    <tr>\n",
       "      <th>JPN</th>\n",
       "      <td>684.0</td>\n",
       "      <td>547.0</td>\n",
       "      <td>12.0</td>\n",
       "      <td>92.0</td>\n",
       "      <td>15.0</td>\n",
       "      <td>3.0</td>\n",
       "    </tr>\n",
       "    <tr>\n",
       "      <th>TWN</th>\n",
       "      <td>640.0</td>\n",
       "      <td>484.0</td>\n",
       "      <td>10.0</td>\n",
       "      <td>89.0</td>\n",
       "      <td>0.0</td>\n",
       "      <td>0.0</td>\n",
       "    </tr>\n",
       "  </tbody>\n",
       "</table>\n",
       "</div>"
      ],
      "text/plain": [
       "     Rather important  Very important  Not at all important  \\\n",
       "AUS             687.0          1001.0                   4.0   \n",
       "IRQ             438.0           644.0                  32.0   \n",
       "JPN             684.0           547.0                  12.0   \n",
       "TWN             640.0           484.0                  10.0   \n",
       "\n",
       "     Not very important  No answer  Don't know  \n",
       "AUS                74.0       47.0         0.0  \n",
       "IRQ                84.0        0.0         2.0  \n",
       "JPN                92.0       15.0         3.0  \n",
       "TWN                89.0        0.0         0.0  "
      ]
     },
     "execution_count": 336,
     "metadata": {},
     "output_type": "execute_result"
    }
   ],
   "source": [
    "res_df.iloc[:,:-1]"
   ]
  },
  {
   "cell_type": "code",
   "execution_count": 503,
   "metadata": {},
   "outputs": [
    {
     "name": "stdout",
     "output_type": "stream",
     "text": [
      "['-2', '2', '4', '3', '1', '-1']\n",
      "['-1', '-2', '1', '2', '3', '4']\n"
     ]
    }
   ],
   "source": [
    "import re\n",
    "\n",
    "\n",
    "country_alpha = ['AND','AUS','IRQ']\n",
    "country_alpha = list_to_sql_string(country_alpha)\n",
    "\n",
    "def atoi(text):\n",
    "    return int(text) if text.isdigit() else text\n",
    "\n",
    "def natural_keys(text):\n",
    "    return [ atoi(c) for c in re.split(r'(\\d+)', text) ]\n",
    "\n",
    "select_question_answers = f\"\"\"\n",
    "            SELECT \"B_COUNTRY_ALPHA\",\"Q{question_nr}\", COUNT(\"Q{question_nr}\") FROM QUESTIONS WHERE \"B_COUNTRY_ALPHA\" IN ({country_alpha}) GROUP BY \"B_COUNTRY_ALPHA\",\"Q{question_nr}\" ORDER BY \"B_COUNTRY_ALPHA\"\n",
    "        \"\"\"\n",
    "        \n",
    "results = PSQL_execute(select_question_answers)\n",
    "\n",
    "nr_columns = list(set(map(lambda a : a[1],results)))\n",
    "print(nr_columns)\n",
    "nr_columns = sorted(nr_columns, key=natural_keys)\n",
    "nr_columns = sorted(nr_columns)\n",
    "print(nr_columns)\n",
    "\n",
    "\n",
    "\n"
   ]
  },
  {
   "cell_type": "code",
   "execution_count": 303,
   "metadata": {},
   "outputs": [
    {
     "data": {
      "text/plain": [
       "Rather important        0.365000\n",
       "Very important          0.536667\n",
       "Not at all important    0.026667\n",
       "Not very important      0.070000\n",
       "No answer               0.000000\n",
       "Don't know              0.001667\n",
       "Name: IRQ, dtype: float64"
      ]
     },
     "execution_count": 303,
     "metadata": {},
     "output_type": "execute_result"
    }
   ],
   "source": [
    "res_df.iloc[1][0:-1] = res_df.iloc[1][0:-1]/res_df.iloc[1][0:-1].sum()"
   ]
  },
  {
   "cell_type": "code",
   "execution_count": 478,
   "metadata": {},
   "outputs": [
    {
     "data": {
      "text/html": [
       "<style  type=\"text/css\" >\n",
       "</style><table id=\"T_232473a4_aa30_11ec_9dbc_88e9fe6bd98f\" ><thead>    <tr>        <th class=\"blank level0\" ></th>        <th class=\"col_heading level0 col0\" >Rather important</th>        <th class=\"col_heading level0 col1\" >Very important</th>        <th class=\"col_heading level0 col2\" >Not at all important</th>        <th class=\"col_heading level0 col3\" >Not very important</th>        <th class=\"col_heading level0 col4\" >No answer</th>        <th class=\"col_heading level0 col5\" >Don't know</th>        <th class=\"col_heading level0 col6\" >Answers</th>    </tr></thead><tbody>\n",
       "                <tr>\n",
       "                        <th id=\"T_232473a4_aa30_11ec_9dbc_88e9fe6bd98flevel0_row0\" class=\"row_heading level0 row0\" >AUS</th>\n",
       "                        <td id=\"T_232473a4_aa30_11ec_9dbc_88e9fe6bd98frow0_col0\" class=\"data row0 col0\" >37.90%</td>\n",
       "                        <td id=\"T_232473a4_aa30_11ec_9dbc_88e9fe6bd98frow0_col1\" class=\"data row0 col1\" >55.20%</td>\n",
       "                        <td id=\"T_232473a4_aa30_11ec_9dbc_88e9fe6bd98frow0_col2\" class=\"data row0 col2\" >0.20%</td>\n",
       "                        <td id=\"T_232473a4_aa30_11ec_9dbc_88e9fe6bd98frow0_col3\" class=\"data row0 col3\" >4.10%</td>\n",
       "                        <td id=\"T_232473a4_aa30_11ec_9dbc_88e9fe6bd98frow0_col4\" class=\"data row0 col4\" >2.60%</td>\n",
       "                        <td id=\"T_232473a4_aa30_11ec_9dbc_88e9fe6bd98frow0_col5\" class=\"data row0 col5\" >0.00%</td>\n",
       "                        <td id=\"T_232473a4_aa30_11ec_9dbc_88e9fe6bd98frow0_col6\" class=\"data row0 col6\" >181300.00%</td>\n",
       "            </tr>\n",
       "            <tr>\n",
       "                        <th id=\"T_232473a4_aa30_11ec_9dbc_88e9fe6bd98flevel0_row1\" class=\"row_heading level0 row1\" >IRQ</th>\n",
       "                        <td id=\"T_232473a4_aa30_11ec_9dbc_88e9fe6bd98frow1_col0\" class=\"data row1 col0\" >36.50%</td>\n",
       "                        <td id=\"T_232473a4_aa30_11ec_9dbc_88e9fe6bd98frow1_col1\" class=\"data row1 col1\" >53.70%</td>\n",
       "                        <td id=\"T_232473a4_aa30_11ec_9dbc_88e9fe6bd98frow1_col2\" class=\"data row1 col2\" >2.70%</td>\n",
       "                        <td id=\"T_232473a4_aa30_11ec_9dbc_88e9fe6bd98frow1_col3\" class=\"data row1 col3\" >7.00%</td>\n",
       "                        <td id=\"T_232473a4_aa30_11ec_9dbc_88e9fe6bd98frow1_col4\" class=\"data row1 col4\" >0.00%</td>\n",
       "                        <td id=\"T_232473a4_aa30_11ec_9dbc_88e9fe6bd98frow1_col5\" class=\"data row1 col5\" >0.20%</td>\n",
       "                        <td id=\"T_232473a4_aa30_11ec_9dbc_88e9fe6bd98frow1_col6\" class=\"data row1 col6\" >120000.00%</td>\n",
       "            </tr>\n",
       "            <tr>\n",
       "                        <th id=\"T_232473a4_aa30_11ec_9dbc_88e9fe6bd98flevel0_row2\" class=\"row_heading level0 row2\" >JPN</th>\n",
       "                        <td id=\"T_232473a4_aa30_11ec_9dbc_88e9fe6bd98frow2_col0\" class=\"data row2 col0\" >50.60%</td>\n",
       "                        <td id=\"T_232473a4_aa30_11ec_9dbc_88e9fe6bd98frow2_col1\" class=\"data row2 col1\" >40.40%</td>\n",
       "                        <td id=\"T_232473a4_aa30_11ec_9dbc_88e9fe6bd98frow2_col2\" class=\"data row2 col2\" >0.90%</td>\n",
       "                        <td id=\"T_232473a4_aa30_11ec_9dbc_88e9fe6bd98frow2_col3\" class=\"data row2 col3\" >6.80%</td>\n",
       "                        <td id=\"T_232473a4_aa30_11ec_9dbc_88e9fe6bd98frow2_col4\" class=\"data row2 col4\" >1.10%</td>\n",
       "                        <td id=\"T_232473a4_aa30_11ec_9dbc_88e9fe6bd98frow2_col5\" class=\"data row2 col5\" >0.20%</td>\n",
       "                        <td id=\"T_232473a4_aa30_11ec_9dbc_88e9fe6bd98frow2_col6\" class=\"data row2 col6\" >135300.00%</td>\n",
       "            </tr>\n",
       "            <tr>\n",
       "                        <th id=\"T_232473a4_aa30_11ec_9dbc_88e9fe6bd98flevel0_row3\" class=\"row_heading level0 row3\" >TWN</th>\n",
       "                        <td id=\"T_232473a4_aa30_11ec_9dbc_88e9fe6bd98frow3_col0\" class=\"data row3 col0\" >52.30%</td>\n",
       "                        <td id=\"T_232473a4_aa30_11ec_9dbc_88e9fe6bd98frow3_col1\" class=\"data row3 col1\" >39.60%</td>\n",
       "                        <td id=\"T_232473a4_aa30_11ec_9dbc_88e9fe6bd98frow3_col2\" class=\"data row3 col2\" >0.80%</td>\n",
       "                        <td id=\"T_232473a4_aa30_11ec_9dbc_88e9fe6bd98frow3_col3\" class=\"data row3 col3\" >7.30%</td>\n",
       "                        <td id=\"T_232473a4_aa30_11ec_9dbc_88e9fe6bd98frow3_col4\" class=\"data row3 col4\" >0.00%</td>\n",
       "                        <td id=\"T_232473a4_aa30_11ec_9dbc_88e9fe6bd98frow3_col5\" class=\"data row3 col5\" >0.00%</td>\n",
       "                        <td id=\"T_232473a4_aa30_11ec_9dbc_88e9fe6bd98frow3_col6\" class=\"data row3 col6\" >122300.00%</td>\n",
       "            </tr>\n",
       "    </tbody></table>"
      ],
      "text/plain": [
       "<pandas.io.formats.style.Styler at 0x7fb6a3900550>"
      ]
     },
     "execution_count": 478,
     "metadata": {},
     "output_type": "execute_result"
    }
   ],
   "source": [
    "res_df.style.format(\"{:.2%}\")"
   ]
  },
  {
   "cell_type": "code",
   "execution_count": 278,
   "metadata": {},
   "outputs": [
    {
     "data": {
      "text/plain": [
       "[('ROU',),\n",
       " ('AUS',),\n",
       " ('TWN',),\n",
       " ('EGY',),\n",
       " ('CHN',),\n",
       " ('GRC',),\n",
       " ('CHL',),\n",
       " ('GTM',),\n",
       " ('ARG',),\n",
       " ('USA',),\n",
       " ('SRB',),\n",
       " ('MYS',),\n",
       " ('TJK',),\n",
       " ('NIC',),\n",
       " ('CAN',),\n",
       " ('BRA',),\n",
       " ('RUS',),\n",
       " ('MAC',),\n",
       " ('NGA',),\n",
       " ('BGD',),\n",
       " ('KAZ',),\n",
       " ('IRN',),\n",
       " ('MMR',),\n",
       " ('PAK',),\n",
       " ('KOR',),\n",
       " ('HKG',),\n",
       " ('ECU',),\n",
       " ('PER',),\n",
       " ('ZWE',),\n",
       " ('PRI',),\n",
       " ('KGZ',),\n",
       " ('VNM',),\n",
       " ('NZL',),\n",
       " ('LBN',),\n",
       " ('UKR',),\n",
       " ('THA',),\n",
       " ('JPN',),\n",
       " ('JOR',),\n",
       " ('PHL',),\n",
       " ('COL',),\n",
       " ('AND',),\n",
       " ('BOL',),\n",
       " ('MEX',),\n",
       " ('TUR',),\n",
       " ('DEU',),\n",
       " ('IDN',),\n",
       " ('CYP',),\n",
       " ('TUN',),\n",
       " ('IRQ',),\n",
       " ('ETH',),\n",
       " ('SGP',)]"
      ]
     },
     "execution_count": 278,
     "metadata": {},
     "output_type": "execute_result"
    }
   ],
   "source": [
    "query = '''SELECT \"B_COUNTRY_ALPHA\" from questions GROUP BY \"B_COUNTRY_ALPHA\"'''\n",
    "PSQL_execute(query)"
   ]
  },
  {
   "cell_type": "code",
   "execution_count": 250,
   "metadata": {},
   "outputs": [
    {
     "data": {
      "text/plain": [
       "{'-2': 'No answer',\n",
       " '2': 'Rather important',\n",
       " '4': 'Not at all important',\n",
       " '3': 'Not very important',\n",
       " '1': 'Very important',\n",
       " '-1': \"Don't know\"}"
      ]
     },
     "execution_count": 250,
     "metadata": {},
     "output_type": "execute_result"
    }
   ],
   "source": [
    "resp_dict = {}\n",
    "for i, response in enumerate(response_options):\n",
    "    resp_dict[nr_columns[i]] = response\n",
    "resp_dict"
   ]
  },
  {
   "cell_type": "code",
   "execution_count": 135,
   "metadata": {},
   "outputs": [
    {
     "ename": "InFailedSqlTransaction",
     "evalue": "current transaction is aborted, commands ignored until end of transaction block\n",
     "output_type": "error",
     "traceback": [
      "\u001b[0;31m---------------------------------------------------------------------------\u001b[0m",
      "\u001b[0;31mInFailedSqlTransaction\u001b[0m                    Traceback (most recent call last)",
      "\u001b[0;32m<ipython-input-135-ccfe7ac1d9f1>\u001b[0m in \u001b[0;36m<module>\u001b[0;34m\u001b[0m\n\u001b[1;32m      1\u001b[0m \u001b[0mquery\u001b[0m \u001b[0;34m=\u001b[0m \u001b[0;34m'SELECT * FROM world_fertility'\u001b[0m\u001b[0;34m\u001b[0m\u001b[0;34m\u001b[0m\u001b[0m\n\u001b[1;32m      2\u001b[0m \u001b[0mcursor\u001b[0m \u001b[0;34m=\u001b[0m \u001b[0mconnection\u001b[0m\u001b[0;34m.\u001b[0m\u001b[0mcursor\u001b[0m\u001b[0;34m(\u001b[0m\u001b[0;34m)\u001b[0m\u001b[0;34m\u001b[0m\u001b[0;34m\u001b[0m\u001b[0m\n\u001b[0;32m----> 3\u001b[0;31m \u001b[0mcursor\u001b[0m\u001b[0;34m.\u001b[0m\u001b[0mexecute\u001b[0m\u001b[0;34m(\u001b[0m\u001b[0mquery\u001b[0m\u001b[0;34m)\u001b[0m\u001b[0;34m\u001b[0m\u001b[0;34m\u001b[0m\u001b[0m\n\u001b[0m\u001b[1;32m      4\u001b[0m \u001b[0mresults\u001b[0m \u001b[0;34m=\u001b[0m \u001b[0mcursor\u001b[0m\u001b[0;34m.\u001b[0m\u001b[0mfetchall\u001b[0m\u001b[0;34m(\u001b[0m\u001b[0;34m)\u001b[0m\u001b[0;34m\u001b[0m\u001b[0;34m\u001b[0m\u001b[0m\n\u001b[1;32m      5\u001b[0m \u001b[0;34m\u001b[0m\u001b[0m\n",
      "\u001b[0;31mInFailedSqlTransaction\u001b[0m: current transaction is aborted, commands ignored until end of transaction block\n"
     ]
    }
   ],
   "source": [
    "query = 'SELECT * FROM world_fertility'\n",
    "cursor = connection.cursor()\n",
    "cursor.execute(query)\n",
    "results = cursor.fetchall()\n",
    "\n",
    "results[0]\n"
   ]
  },
  {
   "cell_type": "markdown",
   "metadata": {},
   "source": [
    "Connections can be used as context managers. Note that a context wraps a transaction: if the context exits with success the transaction is committed, if it exits with an exception the transaction is rolled back. Note that the connection is not closed by the context and it can be used for several contexts."
   ]
  },
  {
   "cell_type": "code",
   "execution_count": 144,
   "metadata": {},
   "outputs": [
    {
     "data": {
      "text/plain": [
       "('Afghanistan', 4.5, 'AFG')"
      ]
     },
     "execution_count": 144,
     "metadata": {},
     "output_type": "execute_result"
    }
   ],
   "source": [
    "## Connection is used as a context manager, avoiding that a faulty query blocks the connection\n",
    "with connection:\n",
    "    with connection.cursor() as cursor:\n",
    "        cursor.execute('SELECT * FROM world_fertility')\n",
    "        results = cursor.fetchall()\n",
    "results[0]"
   ]
  },
  {
   "cell_type": "code",
   "execution_count": 148,
   "metadata": {},
   "outputs": [
    {
     "data": {
      "text/plain": [
       "[('Afghanistan', 4.5, 'AFG'),\n",
       " ('Albania', 1.6, 'ALB'),\n",
       " ('Algeria', 3.0, 'DZA'),\n",
       " ('Andorra', 1.3, 'AND'),\n",
       " ('Angola', 5.5, 'AGO'),\n",
       " ('Antigua and Barbuda', 2.0, 'ATG'),\n",
       " ('Argentina', 2.3, 'ARG'),\n",
       " ('Armenia', 1.8, 'ARM'),\n",
       " ('Aruba', 1.9, 'ABW'),\n",
       " ('Australia', 1.7, 'AUS'),\n",
       " ('Austria', 1.5, 'AUT'),\n",
       " ('Azerbaijan', 1.7, 'AZE'),\n",
       " ('Bahrain', 2.0, 'BHR'),\n",
       " ('Bangladesh', 2.0, 'BGD'),\n",
       " ('Barbados', 1.6, 'BRB'),\n",
       " ('Belarus', 1.4, 'BLR'),\n",
       " ('Belgium', 1.6, 'BEL'),\n",
       " ('Belize', 2.3, 'BLZ'),\n",
       " ('Benin', 4.8, 'BEN'),\n",
       " ('Bermuda', 1.6, 'BMU'),\n",
       " ('Bhutan', 2.0, 'BTN'),\n",
       " ('Bolivia', 2.7, 'BOL'),\n",
       " ('Bosnia and Herzegovina', 1.3, 'BIH'),\n",
       " ('Botswana', 2.9, 'BWA'),\n",
       " ('Brazil', 1.7, 'BRA'),\n",
       " ('Brunei', 1.8, 'BRN'),\n",
       " ('Bulgaria', 1.6, 'BGR'),\n",
       " ('Burkina Faso', 5.2, 'BFA'),\n",
       " ('Burundi', 5.4, 'BDI'),\n",
       " ('Cambodia', 2.5, 'KHM'),\n",
       " ('Cameroon', 4.6, 'CMR'),\n",
       " ('Canada', 1.5, 'CAN'),\n",
       " ('Cape Verde', 2.3, 'CPV'),\n",
       " ('Central African Republic', 4.7, 'CAF'),\n",
       " ('Chad', 5.7, 'TCD'),\n",
       " ('Chile', 1.6, 'CHL'),\n",
       " ('China', 1.7, 'CHN'),\n",
       " ('Colombia', 1.8, 'COL'),\n",
       " ('Comoros', 4.2, 'COM'),\n",
       " ('Costa Rica', 1.8, 'CRI'),\n",
       " ('Croatia', 1.5, 'HRV'),\n",
       " ('Cuba', 1.6, 'CUB'),\n",
       " ('Curacao', 1.7, 'CUW'),\n",
       " ('Cyprus', 1.3, 'CYP'),\n",
       " ('Czech Republic', 1.7, 'CZE'),\n",
       " ('Democratic Republic of the Congo', 5.9, 'COD'),\n",
       " ('Denmark', 1.7, 'DNK'),\n",
       " ('Djibouti', 2.7, 'DJI'),\n",
       " ('Dominica', 1.9, 'DMA'),\n",
       " ('Dominican Republic', 2.3, 'DOM'),\n",
       " ('East Timor', 4.0, 'TLS'),\n",
       " ('Ecuador', 2.4, 'ECU'),\n",
       " ('Egypt', 3.3, 'EGY'),\n",
       " ('El Salvador', 2.0, 'SLV'),\n",
       " ('Equatorial Guinea', 4.5, 'GNQ'),\n",
       " ('Eritrea', 4.1, 'ERI'),\n",
       " ('Estonia', 1.7, 'EST'),\n",
       " ('Eswatini', 3.0, 'SWZ'),\n",
       " ('Ethiopia', 4.2, 'ETH'),\n",
       " ('Faroe Islands', 2.5, 'FRO'),\n",
       " ('Fiji', 2.8, 'FJI'),\n",
       " ('Finland', 1.4, 'FIN'),\n",
       " ('France', 1.9, 'FRA'),\n",
       " ('French Polynesia', 1.9, 'PYF'),\n",
       " ('Gabon', 4.0, 'GAB'),\n",
       " ('Georgia', 2.1, 'GEO'),\n",
       " ('Germany', 1.6, 'DEU'),\n",
       " ('Ghana', 3.9, 'GHA'),\n",
       " ('Greece', 1.4, 'GRC'),\n",
       " ('Greenland', 2.0, 'GRL'),\n",
       " ('Grenada', 2.1, 'GRD'),\n",
       " ('Guam', 2.3, 'GUM'),\n",
       " ('Guatemala', 2.9, 'GTM'),\n",
       " ('Guinea', 4.7, 'GIN'),\n",
       " ('Guinea', 4.5, 'GIN'),\n",
       " ('Guyana', 2.5, 'GUY'),\n",
       " ('Haiti', 2.9, 'HTI'),\n",
       " ('Honduras', 2.5, 'HND'),\n",
       " ('Hong Kong', 1.1, 'HKG'),\n",
       " ('Hungary', 1.6, 'HUN'),\n",
       " ('Iceland', 1.7, 'ISL'),\n",
       " ('India', 2.2, 'IND'),\n",
       " ('Indonesia', 2.3, 'IDN'),\n",
       " ('Iran', 2.9, 'IRN'),\n",
       " ('Iraq', 3.7, 'IRQ'),\n",
       " ('Ireland', 1.8, 'IRL'),\n",
       " ('Isle of Man', 1.6, 'IMN'),\n",
       " ('Israel', 2.4, 'ISR'),\n",
       " ('Italy', 1.3, 'ITA'),\n",
       " ('Ivory Coast', 4.6, 'CIV'),\n",
       " ('Jamaica', 2.0, 'JAM'),\n",
       " ('Japan', 1.4, 'JPN'),\n",
       " ('Jordan', 2.8, 'JOR'),\n",
       " ('Kazakhstan', 2.8, 'KAZ'),\n",
       " ('Kenya', 3.5, 'KEN'),\n",
       " ('Kiribati', 3.6, 'KIR'),\n",
       " ('Kuwait', 2.1, 'KWT'),\n",
       " ('Kyrgyzstan', 3.3, 'KGZ'),\n",
       " ('Laos', 2.7, 'LAO'),\n",
       " ('Latvia', 1.6, 'LVA'),\n",
       " ('Lebanon', 2.1, 'LBN'),\n",
       " ('Lesotho', 3.1, 'LSO'),\n",
       " ('Liberia', 4.3, 'LBR'),\n",
       " ('Libya', 2.2, 'LBY'),\n",
       " ('Liechtenstein', 1.6, 'LIE'),\n",
       " ('Lithuania', 1.6, 'LTU'),\n",
       " ('Luxembourg', 1.4, 'LUX'),\n",
       " ('Macau', 1.2, 'MAC'),\n",
       " ('Madagascar', 4.1, 'MDG'),\n",
       " ('Malawi', 4.2, 'MWI'),\n",
       " ('Malaysia', 2.0, 'MYS'),\n",
       " ('Maldives', 1.9, 'MDV'),\n",
       " ('Mali', 5.9, 'MLI'),\n",
       " ('Malta', 1.2, 'MLT'),\n",
       " ('Marshall Islands', 4.0, 'MHL'),\n",
       " ('Mauritania', 4.6, 'MRT'),\n",
       " ('Mauritius', 1.4, 'MUS'),\n",
       " ('Mexico', 2.1, 'MEX'),\n",
       " ('Micronesia', 3.1, 'FSM'),\n",
       " ('Moldova', 1.3, 'MDA'),\n",
       " ('Mongolia', 2.9, 'MNG'),\n",
       " ('Montenegro', 1.7, 'MNE'),\n",
       " ('Morocco', 3.1, 'MAR'),\n",
       " ('Mozambique', 4.9, 'MOZ'),\n",
       " ('Myanmar', 2.2, 'MMR'),\n",
       " ('Namibia', 3.4, 'NAM'),\n",
       " ('Nepal', 1.9, 'NPL'),\n",
       " ('Netherlands', 1.6, 'NLD'),\n",
       " ('New Caledonia', 2.0, 'NCL'),\n",
       " ('New Zealand', 1.7, 'NZL'),\n",
       " ('Nicaragua', 2.4, 'NIC'),\n",
       " ('Niger', 5.3, 'NER'),\n",
       " ('Nigeria', 5.4, 'NGA'),\n",
       " ('North Korea', 1.9, 'PRK'),\n",
       " ('North Macedonia', 1.5, 'MKD'),\n",
       " ('Norway', 1.6, 'NOR'),\n",
       " ('Oman', 2.9, 'OMN'),\n",
       " ('Pakistan', 3.5, 'PAK'),\n",
       " ('Palau', 2.2, 'PLW'),\n",
       " ('Panama', 2.5, 'PAN'),\n",
       " ('Papua New Guinea', 3.6, 'PNG'),\n",
       " ('Paraguay', 2.4, 'PRY'),\n",
       " ('Peru', 2.3, 'PER'),\n",
       " ('Philippines', 2.6, 'PHL'),\n",
       " ('Poland', 1.5, 'POL'),\n",
       " ('Portugal', 1.4, 'PRT'),\n",
       " ('Qatar', 1.9, 'QAT'),\n",
       " ('Republic of the Congo', 4.4, 'COG'),\n",
       " ('Romania', 1.8, 'ROU'),\n",
       " ('Russia', 1.82, 'RUS'),\n",
       " ('Russia', 1.6, 'RUS'),\n",
       " ('Rwanda', 4.0, 'RWA'),\n",
       " ('Saint Martin', 1.8, 'MAF'),\n",
       " ('Samoa', 3.9, 'WSM'),\n",
       " ('San Marino', 1.3, 'SMR'),\n",
       " ('Sao Tome and Principe', 4.3, 'STP'),\n",
       " ('Saudi Arabia', 2.3, 'SAU'),\n",
       " ('Senegal', 4.6, 'SEN'),\n",
       " ('Serbia', 1.5, 'SRB'),\n",
       " ('Seychelles', 2.4, 'SYC'),\n",
       " ('Sierra Leone', 4.3, 'SLE'),\n",
       " ('Singapore', 1.1, 'SGP'),\n",
       " ('Sint Maarten', 2.0, 'SXM'),\n",
       " ('Slovenia', 1.6, 'SVN'),\n",
       " ('Solomon Islands', 4.4, 'SLB'),\n",
       " ('Somalia', 6.1, 'SOM'),\n",
       " ('South Africa', 2.4, 'ZAF'),\n",
       " ('South Korea', 1.6, 'KOR'),\n",
       " ('South Sudan', 4.7, 'SSD'),\n",
       " ('Spain', 1.3, 'ESP'),\n",
       " ('Sri Lanka', 2.2, 'LKA'),\n",
       " ('Sudan', 4.4, 'SDN'),\n",
       " ('Suriname', 2.4, 'SUR'),\n",
       " ('Sweden', 1.8, 'SWE'),\n",
       " ('Switzerland', 1.5, 'CHE'),\n",
       " ('Syria', 2.8, 'SYR'),\n",
       " ('Tajikistan', 3.6, 'TJK'),\n",
       " ('Tanzania', 4.9, 'TZA'),\n",
       " ('Thailand', 1.5, 'THA'),\n",
       " ('The Bahamas', 1.8, 'BHS'),\n",
       " ('The Gambia', 5.2, 'GMB'),\n",
       " ('Togo', 4.3, 'TGO'),\n",
       " ('Tonga', 3.6, 'TON'),\n",
       " ('Trinidad and Tobago', 1.7, 'TTO'),\n",
       " ('Tunisia', 2.2, 'TUN'),\n",
       " ('Turkey', 2.1, 'TUR'),\n",
       " ('Turkmenistan', 2.8, 'TKM'),\n",
       " ('Uganda', 5.0, 'UGA'),\n",
       " ('Ukraine', 1.3, 'UKR'),\n",
       " ('United Arab Emirates', 1.4, 'ARE'),\n",
       " ('United Kingdom', 1.7, 'GBR'),\n",
       " ('United States', 1.7, 'USA'),\n",
       " ('Uruguay', 2.0, 'URY'),\n",
       " ('Uzbekistan', 2.4, 'UZB'),\n",
       " ('Vanuatu', 3.8, 'VUT'),\n",
       " ('Venezuela', 2.3, 'VEN'),\n",
       " ('Vietnam', 2.0, 'VNM'),\n",
       " ('Virgin Islands', 2.1, 'VIR'),\n",
       " ('Yemen', 3.8, 'YEM'),\n",
       " ('Zambia', 4.6, 'ZMB'),\n",
       " ('Zimbabwe', 3.6, 'ZWE')]"
      ]
     },
     "execution_count": 148,
     "metadata": {},
     "output_type": "execute_result"
    }
   ],
   "source": [
    "def PSQL_execute(query):\n",
    "    with connection:\n",
    "        with connection.cursor() as cursor:\n",
    "            cursor.execute('SELECT * FROM world_fertility')\n",
    "            results = cursor.fetchall()\n",
    "    return results\n",
    "    \n",
    "    \n",
    "query = 'SELECT * FROM world_fertility'\n",
    "PSQL_execute(query)"
   ]
  },
  {
   "cell_type": "markdown",
   "metadata": {},
   "source": []
  }
 ],
 "metadata": {
  "interpreter": {
   "hash": "77005d5593a454bd40618279c901ebcf8fcaa8ded9c64545004450a7d5b863e9"
  },
  "kernelspec": {
   "display_name": "Python 3.7.6 ('base')",
   "language": "python",
   "name": "python3"
  },
  "language_info": {
   "codemirror_mode": {
    "name": "ipython",
    "version": 3
   },
   "file_extension": ".py",
   "mimetype": "text/x-python",
   "name": "python",
   "nbconvert_exporter": "python",
   "pygments_lexer": "ipython3",
   "version": "3.7.6"
  },
  "orig_nbformat": 4
 },
 "nbformat": 4,
 "nbformat_minor": 2
}
