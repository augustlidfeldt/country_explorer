{
 "cells": [
  {
   "cell_type": "code",
   "execution_count": 37,
   "metadata": {},
   "outputs": [],
   "source": [
    "import question_server as qs"
   ]
  },
  {
   "cell_type": "code",
   "execution_count": 30,
   "metadata": {},
   "outputs": [
    {
     "name": "stdout",
     "output_type": "stream",
     "text": [
      "Connection to PostgreSQL DB successful\n",
      "AND\n"
     ]
    },
    {
     "data": {
      "text/plain": [
       "['45.0',\n",
       " 'Future changes',\n",
       " 'Greater respect for authority',\n",
       " '0.5%',\n",
       " '47.01%',\n",
       " '44.32%',\n",
       " '8.17%',\n",
       " 1004]"
      ]
     },
     "execution_count": 30,
     "metadata": {},
     "output_type": "execute_result"
    }
   ],
   "source": [
    "response = qs.ask_question(45,\"AND\")\n",
    "headers = list(response.columns)\n",
    "values = list(response.iloc[0])\n",
    "values\n"
   ]
  },
  {
   "cell_type": "code",
   "execution_count": 40,
   "metadata": {},
   "outputs": [
    {
     "name": "stdout",
     "output_type": "stream",
     "text": [
      "Connection to PostgreSQL DB successful\n",
      "IRQ\n"
     ]
    },
    {
     "data": {
      "text/html": [
       "<div>\n",
       "<style scoped>\n",
       "    .dataframe tbody tr th:only-of-type {\n",
       "        vertical-align: middle;\n",
       "    }\n",
       "\n",
       "    .dataframe tbody tr th {\n",
       "        vertical-align: top;\n",
       "    }\n",
       "\n",
       "    .dataframe thead th {\n",
       "        text-align: right;\n",
       "    }\n",
       "</style>\n",
       "<table border=\"1\" class=\"dataframe\">\n",
       "  <thead>\n",
       "    <tr style=\"text-align: right;\">\n",
       "      <th></th>\n",
       "      <th>Question</th>\n",
       "      <th>Theme</th>\n",
       "      <th>Subtheme</th>\n",
       "      <th>Don't know</th>\n",
       "      <th>No answer</th>\n",
       "      <th>Very happy</th>\n",
       "      <th>Quite happy</th>\n",
       "      <th>Not very happy</th>\n",
       "      <th>Not at all happy</th>\n",
       "      <th>Answers</th>\n",
       "    </tr>\n",
       "  </thead>\n",
       "  <tbody>\n",
       "    <tr>\n",
       "      <th>0</th>\n",
       "      <td>46.0</td>\n",
       "      <td>Feeling of happiness</td>\n",
       "      <td>0</td>\n",
       "      <td>0.58%</td>\n",
       "      <td>1.17%</td>\n",
       "      <td>17.92%</td>\n",
       "      <td>51.25%</td>\n",
       "      <td>19.33%</td>\n",
       "      <td>9.75%</td>\n",
       "      <td>1200</td>\n",
       "    </tr>\n",
       "  </tbody>\n",
       "</table>\n",
       "</div>"
      ],
      "text/plain": [
       "  Question                 Theme Subtheme Don't know No answer Very happy  \\\n",
       "0     46.0  Feeling of happiness        0      0.58%     1.17%     17.92%   \n",
       "\n",
       "  Quite happy Not very happy Not at all happy  Answers  \n",
       "0      51.25%         19.33%            9.75%     1200  "
      ]
     },
     "execution_count": 40,
     "metadata": {},
     "output_type": "execute_result"
    }
   ],
   "source": [
    "\n",
    "qs.ask_question(46,\"IRQ\")"
   ]
  },
  {
   "cell_type": "code",
   "execution_count": 42,
   "metadata": {},
   "outputs": [
    {
     "name": "stdout",
     "output_type": "stream",
     "text": [
      "Connection to PostgreSQL DB successful\n",
      "IRQ\n"
     ]
    },
    {
     "data": {
      "text/html": [
       "<div>\n",
       "<style scoped>\n",
       "    .dataframe tbody tr th:only-of-type {\n",
       "        vertical-align: middle;\n",
       "    }\n",
       "\n",
       "    .dataframe tbody tr th {\n",
       "        vertical-align: top;\n",
       "    }\n",
       "\n",
       "    .dataframe thead th {\n",
       "        text-align: right;\n",
       "    }\n",
       "</style>\n",
       "<table border=\"1\" class=\"dataframe\">\n",
       "  <thead>\n",
       "    <tr style=\"text-align: right;\">\n",
       "      <th></th>\n",
       "      <th>Question</th>\n",
       "      <th>Theme</th>\n",
       "      <th>Subtheme</th>\n",
       "      <th>Don't know</th>\n",
       "      <th>No answer</th>\n",
       "      <th>Agree strongly</th>\n",
       "      <th>Agree</th>\n",
       "      <th>Disagree</th>\n",
       "      <th>Strongly disagree</th>\n",
       "      <th>Answers</th>\n",
       "    </tr>\n",
       "  </thead>\n",
       "  <tbody>\n",
       "    <tr>\n",
       "      <th>0</th>\n",
       "      <td>32.0</td>\n",
       "      <td>Being a housewife just as fulfilling</td>\n",
       "      <td>0</td>\n",
       "      <td>2.5%</td>\n",
       "      <td>0.83%</td>\n",
       "      <td>45.92%</td>\n",
       "      <td>24.67%</td>\n",
       "      <td>18.25%</td>\n",
       "      <td>7.83%</td>\n",
       "      <td>1200</td>\n",
       "    </tr>\n",
       "  </tbody>\n",
       "</table>\n",
       "</div>"
      ],
      "text/plain": [
       "  Question                                 Theme Subtheme Don't know  \\\n",
       "0     32.0  Being a housewife just as fulfilling        0       2.5%   \n",
       "\n",
       "  No answer Agree strongly   Agree Disagree Strongly disagree  Answers  \n",
       "0     0.83%         45.92%  24.67%   18.25%             7.83%     1200  "
      ]
     },
     "execution_count": 42,
     "metadata": {},
     "output_type": "execute_result"
    }
   ],
   "source": [
    "import question_server as qs2\n",
    "qs2.ask_question(32,\"IRQ\")"
   ]
  },
  {
   "cell_type": "code",
   "execution_count": 48,
   "metadata": {},
   "outputs": [
    {
     "name": "stdout",
     "output_type": "stream",
     "text": [
      "Connection to PostgreSQL DB successful\n",
      "AND\n"
     ]
    },
    {
     "data": {
      "text/html": [
       "<div>\n",
       "<style scoped>\n",
       "    .dataframe tbody tr th:only-of-type {\n",
       "        vertical-align: middle;\n",
       "    }\n",
       "\n",
       "    .dataframe tbody tr th {\n",
       "        vertical-align: top;\n",
       "    }\n",
       "\n",
       "    .dataframe thead th {\n",
       "        text-align: right;\n",
       "    }\n",
       "</style>\n",
       "<table border=\"1\" class=\"dataframe\">\n",
       "  <thead>\n",
       "    <tr style=\"text-align: right;\">\n",
       "      <th></th>\n",
       "      <th>Question</th>\n",
       "      <th>Theme</th>\n",
       "      <th>Subtheme</th>\n",
       "      <th>No answer</th>\n",
       "      <th>The entire way our society is organized must be radically changed by revolutionary action</th>\n",
       "      <th>Our society must be gradually improved by reforms</th>\n",
       "      <th>Our present society must be valiantly defended against all subversive forces</th>\n",
       "      <th>Answers</th>\n",
       "    </tr>\n",
       "  </thead>\n",
       "  <tbody>\n",
       "    <tr>\n",
       "      <th>0</th>\n",
       "      <td>42.0</td>\n",
       "      <td>Basic kinds of attitudes concerning society</td>\n",
       "      <td>0</td>\n",
       "      <td>4.18%</td>\n",
       "      <td>11.25%</td>\n",
       "      <td>81.47%</td>\n",
       "      <td>3.09%</td>\n",
       "      <td>1004</td>\n",
       "    </tr>\n",
       "  </tbody>\n",
       "</table>\n",
       "</div>"
      ],
      "text/plain": [
       "  Question                                        Theme Subtheme No answer  \\\n",
       "0     42.0  Basic kinds of attitudes concerning society        0     4.18%   \n",
       "\n",
       "  The entire way our society is organized must be radically changed by revolutionary action  \\\n",
       "0                                             11.25%                                          \n",
       "\n",
       "  Our society must be gradually improved by reforms  \\\n",
       "0                                            81.47%   \n",
       "\n",
       "  Our present society must be valiantly defended against all subversive forces  \\\n",
       "0                                              3.09%                             \n",
       "\n",
       "   Answers  \n",
       "0     1004  "
      ]
     },
     "execution_count": 48,
     "metadata": {},
     "output_type": "execute_result"
    }
   ],
   "source": [
    "qs.ask_question(42,\"AND\")"
   ]
  },
  {
   "cell_type": "code",
   "execution_count": 54,
   "metadata": {},
   "outputs": [
    {
     "name": "stdout",
     "output_type": "stream",
     "text": [
      "Connection to PostgreSQL DB successful\n",
      "IRQ\n"
     ]
    },
    {
     "data": {
      "text/html": [
       "<div>\n",
       "<style scoped>\n",
       "    .dataframe tbody tr th:only-of-type {\n",
       "        vertical-align: middle;\n",
       "    }\n",
       "\n",
       "    .dataframe tbody tr th {\n",
       "        vertical-align: top;\n",
       "    }\n",
       "\n",
       "    .dataframe thead th {\n",
       "        text-align: right;\n",
       "    }\n",
       "</style>\n",
       "<table border=\"1\" class=\"dataframe\">\n",
       "  <thead>\n",
       "    <tr style=\"text-align: right;\">\n",
       "      <th></th>\n",
       "      <th>Question</th>\n",
       "      <th>Theme</th>\n",
       "      <th>Subtheme</th>\n",
       "      <th>Don't know</th>\n",
       "      <th>No answer</th>\n",
       "      <th>Very important</th>\n",
       "      <th>Rather important</th>\n",
       "      <th>Not very important</th>\n",
       "      <th>Not at all important</th>\n",
       "      <th>Answers</th>\n",
       "    </tr>\n",
       "  </thead>\n",
       "  <tbody>\n",
       "    <tr>\n",
       "      <th>0</th>\n",
       "      <td>4.0</td>\n",
       "      <td>Important in life</td>\n",
       "      <td>Politics</td>\n",
       "      <td>2.08%</td>\n",
       "      <td>0.42%</td>\n",
       "      <td>17.58%</td>\n",
       "      <td>21.42%</td>\n",
       "      <td>27.75%</td>\n",
       "      <td>30.75%</td>\n",
       "      <td>1200</td>\n",
       "    </tr>\n",
       "  </tbody>\n",
       "</table>\n",
       "</div>"
      ],
      "text/plain": [
       "  Question              Theme  Subtheme Don't know No answer Very important  \\\n",
       "0      4.0  Important in life  Politics      2.08%     0.42%         17.58%   \n",
       "\n",
       "  Rather important Not very important Not at all important  Answers  \n",
       "0           21.42%             27.75%               30.75%     1200  "
      ]
     },
     "execution_count": 54,
     "metadata": {},
     "output_type": "execute_result"
    }
   ],
   "source": [
    "import question_server\n",
    "question_server.ask_question(4,\"IRQ\")"
   ]
  },
  {
   "cell_type": "code",
   "execution_count": 3,
   "metadata": {},
   "outputs": [],
   "source": [
    "#import question_server as qs\n",
    "from flask import Flask\n",
    "from flask_cors import CORS\n",
    "from flask import request\n",
    "import pandas as pd\n",
    "import psycopg2\n",
    "from psycopg2 import OperationalError\n",
    "\n",
    "from multiprocessing import connection\n",
    "import json\n",
    "\n",
    "def create_connection(db_name, db_user, db_password, db_host, db_port):\n",
    "    connection = None\n",
    "    try:\n",
    "        connection = psycopg2.connect(\n",
    "            database=db_name,\n",
    "            user=db_user,\n",
    "            password=db_password,\n",
    "            host=db_host,\n",
    "            port=db_port,\n",
    "        )\n",
    "        print(\"Connection to PostgreSQL DB successful\")\n",
    "    except OperationalError as e:\n",
    "        print(f\"The error '{e}' occurred\")\n",
    "    return connection\n",
    "\n",
    "def question_setup():\n",
    "    global connection\n",
    "    connection = create_connection(\n",
    "        \"country_app\", \"postgres\", \"\", \"127.0.0.1\", \"5432\"\n",
    "    )\n",
    "    return connection\n",
    "\n"
   ]
  },
  {
   "cell_type": "code",
   "execution_count": 7,
   "metadata": {},
   "outputs": [
    {
     "name": "stdout",
     "output_type": "stream",
     "text": [
      "Connection to PostgreSQL DB successful\n",
      "('Iraq', 18755.0, 3.7)\n"
     ]
    }
   ],
   "source": [
    "\n",
    "question_nr, country_alpha = 29, 'IRQ'\n",
    "\n",
    "select_question_answers = f\"\"\"\n",
    "    SELECT \"Q{question_nr}\", COUNT(\"Q{question_nr}\") FROM QUESTIONS WHERE \"B_COUNTRY_ALPHA\" = '{country_alpha}' GROUP BY \"Q{question_nr}\" ORDER BY \"Q{question_nr}\"\n",
    "\"\"\"\n",
    "query = f\"\"\"\n",
    "SELECT f.country, wpc.gdp_per_cap, f.fertility as GDP FROM world_gdp_per_cap as wpc INNER JOIN world_fertility as f ON f.iso_code = wpc.iso_code WHERE f.iso_code='{country_alpha}'\n",
    "\"\"\"\n",
    "\n",
    "connection = question_setup()\n",
    "cursor = connection.cursor()\n",
    "cursor.execute(query)\n",
    "results = cursor.fetchall()\n",
    "\n",
    "for r in results:\n",
    "    print(r)"
   ]
  },
  {
   "cell_type": "code",
   "execution_count": 13,
   "metadata": {},
   "outputs": [
    {
     "name": "stdout",
     "output_type": "stream",
     "text": [
      "IRQ\n",
      "JPN\n",
      "'IRQ','JPN'\n"
     ]
    }
   ],
   "source": [
    "country_alpha = \"'IRQ','JPN'\"\n",
    "\n",
    "country_alpha = ['IRQ','JPN']\n",
    "\n",
    "question_str = \"\"\n",
    "for c in country_alpha:\n",
    "    print(c)\n",
    "    question_str+=\"'\"+c+\"',\"\n",
    "    \n",
    "question_str = question_str[:-1]\n",
    "    \n",
    "\n",
    "print(question_str)\n",
    "#question_str.join(country) for country in country_alpha:\n"
   ]
  },
  {
   "cell_type": "code",
   "execution_count": null,
   "metadata": {},
   "outputs": [],
   "source": []
  }
 ],
 "metadata": {
  "interpreter": {
   "hash": "77005d5593a454bd40618279c901ebcf8fcaa8ded9c64545004450a7d5b863e9"
  },
  "kernelspec": {
   "display_name": "Python 3.7.6 ('base')",
   "language": "python",
   "name": "python3"
  },
  "language_info": {
   "codemirror_mode": {
    "name": "ipython",
    "version": 3
   },
   "file_extension": ".py",
   "mimetype": "text/x-python",
   "name": "python",
   "nbconvert_exporter": "python",
   "pygments_lexer": "ipython3",
   "version": "3.7.6"
  },
  "orig_nbformat": 4
 },
 "nbformat": 4,
 "nbformat_minor": 2
}
