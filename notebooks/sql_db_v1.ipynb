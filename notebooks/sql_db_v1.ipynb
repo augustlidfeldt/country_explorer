{
 "cells": [
  {
   "cell_type": "code",
   "execution_count": 1,
   "metadata": {},
   "outputs": [
    {
     "name": "stdout",
     "output_type": "stream",
     "text": [
      "Requirement already satisfied: psycopg2 in /Users/august/opt/anaconda3/lib/python3.7/site-packages (2.9.3)\n",
      "\u001b[33mWARNING: You are using pip version 21.1.3; however, version 22.0.3 is available.\n",
      "You should consider upgrading via the '/Users/august/opt/anaconda3/bin/python -m pip install --upgrade pip' command.\u001b[0m\n"
     ]
    }
   ],
   "source": [
    "!pip install psycopg2"
   ]
  },
  {
   "cell_type": "markdown",
   "metadata": {},
   "source": [
    "## Creating connection with psycopg2"
   ]
  },
  {
   "cell_type": "code",
   "execution_count": 1,
   "metadata": {},
   "outputs": [],
   "source": [
    "import psycopg2\n",
    "from psycopg2 import OperationalError\n",
    "\n",
    "def create_connection(db_name, db_user, db_password, db_host, db_port):\n",
    "    connection = None\n",
    "    try:\n",
    "        connection = psycopg2.connect(\n",
    "            database=db_name,\n",
    "            user=db_user,\n",
    "            password=db_password,\n",
    "            host=db_host,\n",
    "            port=db_port,\n",
    "        )\n",
    "        print(\"Connection to PostgreSQL DB successful\")\n",
    "    except OperationalError as e:\n",
    "        print(f\"The error '{e}' occurred\")\n",
    "    return connection"
   ]
  },
  {
   "cell_type": "code",
   "execution_count": 3,
   "metadata": {},
   "outputs": [
    {
     "name": "stdout",
     "output_type": "stream",
     "text": [
      "Connection to PostgreSQL DB successful\n"
     ]
    }
   ],
   "source": [
    "connection = create_connection(\n",
    "    \"country_app\", \"postgres\", \"\", \"127.0.0.1\", \"5432\"\n",
    ")"
   ]
  },
  {
   "cell_type": "markdown",
   "metadata": {},
   "source": [
    "## Creating Database"
   ]
  },
  {
   "cell_type": "code",
   "execution_count": 41,
   "metadata": {},
   "outputs": [
    {
     "ename": "DuplicateDatabase",
     "evalue": "database \"sm_app\" already exists\n",
     "output_type": "error",
     "traceback": [
      "\u001b[0;31m---------------------------------------------------------------------------\u001b[0m",
      "\u001b[0;31mDuplicateDatabase\u001b[0m                         Traceback (most recent call last)",
      "\u001b[0;32m<ipython-input-41-63d4698a644a>\u001b[0m in \u001b[0;36m<module>\u001b[0;34m\u001b[0m\n\u001b[1;32m      9\u001b[0m \u001b[0;34m\u001b[0m\u001b[0m\n\u001b[1;32m     10\u001b[0m \u001b[0mcreate_database_query\u001b[0m \u001b[0;34m=\u001b[0m \u001b[0;34m\"CREATE DATABASE sm_app\"\u001b[0m\u001b[0;34m\u001b[0m\u001b[0;34m\u001b[0m\u001b[0m\n\u001b[0;32m---> 11\u001b[0;31m \u001b[0mcreate_database\u001b[0m\u001b[0;34m(\u001b[0m\u001b[0mconnection\u001b[0m\u001b[0;34m,\u001b[0m \u001b[0mcreate_database_query\u001b[0m\u001b[0;34m)\u001b[0m\u001b[0;34m\u001b[0m\u001b[0;34m\u001b[0m\u001b[0m\n\u001b[0m",
      "\u001b[0;32m<ipython-input-41-63d4698a644a>\u001b[0m in \u001b[0;36mcreate_database\u001b[0;34m(connection, query)\u001b[0m\n\u001b[1;32m      3\u001b[0m     \u001b[0mcursor\u001b[0m \u001b[0;34m=\u001b[0m \u001b[0mconnection\u001b[0m\u001b[0;34m.\u001b[0m\u001b[0mcursor\u001b[0m\u001b[0;34m(\u001b[0m\u001b[0;34m)\u001b[0m\u001b[0;34m\u001b[0m\u001b[0;34m\u001b[0m\u001b[0m\n\u001b[1;32m      4\u001b[0m     \u001b[0;32mtry\u001b[0m\u001b[0;34m:\u001b[0m\u001b[0;34m\u001b[0m\u001b[0;34m\u001b[0m\u001b[0m\n\u001b[0;32m----> 5\u001b[0;31m         \u001b[0mcursor\u001b[0m\u001b[0;34m.\u001b[0m\u001b[0mexecute\u001b[0m\u001b[0;34m(\u001b[0m\u001b[0mquery\u001b[0m\u001b[0;34m)\u001b[0m\u001b[0;34m\u001b[0m\u001b[0;34m\u001b[0m\u001b[0m\n\u001b[0m\u001b[1;32m      6\u001b[0m         \u001b[0mprint\u001b[0m\u001b[0;34m(\u001b[0m\u001b[0;34m\"Query executed successfully\"\u001b[0m\u001b[0;34m)\u001b[0m\u001b[0;34m\u001b[0m\u001b[0;34m\u001b[0m\u001b[0m\n\u001b[1;32m      7\u001b[0m     \u001b[0;32mexcept\u001b[0m \u001b[0mOperationalError\u001b[0m \u001b[0;32mas\u001b[0m \u001b[0me\u001b[0m\u001b[0;34m:\u001b[0m\u001b[0;34m\u001b[0m\u001b[0;34m\u001b[0m\u001b[0m\n",
      "\u001b[0;31mDuplicateDatabase\u001b[0m: database \"sm_app\" already exists\n"
     ]
    }
   ],
   "source": [
    "def create_database(connection, query):\n",
    "    connection.autocommit = True\n",
    "    cursor = connection.cursor()\n",
    "    try:\n",
    "        cursor.execute(query)\n",
    "        print(\"Query executed successfully\")\n",
    "    except OperationalError as e:\n",
    "        print(f\"The error '{e}' occurred\")\n",
    "\n",
    "create_database_query = \"CREATE DATABASE sm_app\"\n",
    "create_database(connection, create_database_query)"
   ]
  },
  {
   "cell_type": "code",
   "execution_count": 3,
   "metadata": {},
   "outputs": [
    {
     "name": "stdout",
     "output_type": "stream",
     "text": [
      "Connection to PostgreSQL DB successful\n"
     ]
    }
   ],
   "source": [
    "connection = create_connection(\n",
    "    \"sm_app\", \"postgres\", \"\", \"127.0.0.1\", \"5432\"\n",
    ")"
   ]
  },
  {
   "cell_type": "code",
   "execution_count": 138,
   "metadata": {},
   "outputs": [],
   "source": [
    "def execute_query(connection, query):\n",
    "    connection.autocommit = True\n",
    "    cursor = connection.cursor()\n",
    "    try:\n",
    "        cursor.execute(query)\n",
    "        print(\"Query executed successfully\")\n",
    "        return cursor\n",
    "    except OperationalError as e:\n",
    "        print(f\"The error '{e}' occurred\")"
   ]
  },
  {
   "cell_type": "code",
   "execution_count": 45,
   "metadata": {},
   "outputs": [
    {
     "ename": "DuplicateTable",
     "evalue": "relation \"answers\" already exists\n",
     "output_type": "error",
     "traceback": [
      "\u001b[0;31m---------------------------------------------------------------------------\u001b[0m",
      "\u001b[0;31mDuplicateTable\u001b[0m                            Traceback (most recent call last)",
      "\u001b[0;32m<ipython-input-45-237330bd8e6d>\u001b[0m in \u001b[0;36m<module>\u001b[0;34m\u001b[0m\n\u001b[1;32m     22\u001b[0m \"\"\"\n\u001b[1;32m     23\u001b[0m \u001b[0;34m\u001b[0m\u001b[0m\n\u001b[0;32m---> 24\u001b[0;31m \u001b[0mexecute_query\u001b[0m\u001b[0;34m(\u001b[0m\u001b[0mconnection\u001b[0m\u001b[0;34m,\u001b[0m\u001b[0mcreate_answers_table\u001b[0m\u001b[0;34m)\u001b[0m\u001b[0;34m\u001b[0m\u001b[0;34m\u001b[0m\u001b[0m\n\u001b[0m",
      "\u001b[0;32m<ipython-input-44-e756e3717c5e>\u001b[0m in \u001b[0;36mexecute_query\u001b[0;34m(connection, query)\u001b[0m\n\u001b[1;32m      3\u001b[0m     \u001b[0mcursor\u001b[0m \u001b[0;34m=\u001b[0m \u001b[0mconnection\u001b[0m\u001b[0;34m.\u001b[0m\u001b[0mcursor\u001b[0m\u001b[0;34m(\u001b[0m\u001b[0;34m)\u001b[0m\u001b[0;34m\u001b[0m\u001b[0;34m\u001b[0m\u001b[0m\n\u001b[1;32m      4\u001b[0m     \u001b[0;32mtry\u001b[0m\u001b[0;34m:\u001b[0m\u001b[0;34m\u001b[0m\u001b[0;34m\u001b[0m\u001b[0m\n\u001b[0;32m----> 5\u001b[0;31m         \u001b[0mcursor\u001b[0m\u001b[0;34m.\u001b[0m\u001b[0mexecute\u001b[0m\u001b[0;34m(\u001b[0m\u001b[0mquery\u001b[0m\u001b[0;34m)\u001b[0m\u001b[0;34m\u001b[0m\u001b[0;34m\u001b[0m\u001b[0m\n\u001b[0m\u001b[1;32m      6\u001b[0m         \u001b[0mprint\u001b[0m\u001b[0;34m(\u001b[0m\u001b[0;34m\"Query executed successfully\"\u001b[0m\u001b[0;34m)\u001b[0m\u001b[0;34m\u001b[0m\u001b[0;34m\u001b[0m\u001b[0m\n\u001b[1;32m      7\u001b[0m     \u001b[0;32mexcept\u001b[0m \u001b[0mOperationalError\u001b[0m \u001b[0;32mas\u001b[0m \u001b[0me\u001b[0m\u001b[0;34m:\u001b[0m\u001b[0;34m\u001b[0m\u001b[0;34m\u001b[0m\u001b[0m\n",
      "\u001b[0;31mDuplicateTable\u001b[0m: relation \"answers\" already exists\n"
     ]
    }
   ],
   "source": [
    "create_answers_table = \"\"\"\n",
    "    CREATE TABLE answers (\n",
    "        Q TEXT,\n",
    "        Theme TEXT,\n",
    "        Subtheme TEXT,\n",
    "        alt_op_5 TEXT,\n",
    "        alt_op_4 TEXT,\n",
    "        alt_op_3 TEXT,\n",
    "        alt_op_2 TEXT,\n",
    "        alt_op_1 TEXT,\n",
    "        op_1 TEXT,\n",
    "        op_2 TEXT,\n",
    "        op_3 TEXT,\n",
    "        op_4 TEXT,\n",
    "        op_5 TEXT,\n",
    "        op_6 TEXT,\n",
    "        op_7 TEXT,\n",
    "        op_8 TEXT,\n",
    "        op_9 TEXT,\n",
    "        op_10 TEXT\n",
    "    )\n",
    "\"\"\"\n",
    "\n",
    "execute_query(connection,create_answers_table)"
   ]
  },
  {
   "cell_type": "markdown",
   "metadata": {},
   "source": [
    "## Creating tables"
   ]
  },
  {
   "cell_type": "code",
   "execution_count": 12,
   "metadata": {},
   "outputs": [
    {
     "name": "stdout",
     "output_type": "stream",
     "text": [
      "Query executed successfully\n"
     ]
    }
   ],
   "source": [
    "create_users_table = \"\"\"\n",
    "CREATE TABLE IF NOT EXISTS users (\n",
    "  id SERIAL PRIMARY KEY,\n",
    "  name  NOT NULL, \n",
    "  age INTEGER,\n",
    "  gender TEXT,\n",
    "  nationality TEXT\n",
    ")\n",
    "\"\"\"\n",
    "\n",
    "execute_query(connection, create_users_table)\n",
    "\n",
    "create_posts_table = \"\"\"\n",
    "CREATE TABLE IF NOT EXISTS posts (\n",
    "  id SERIAL PRIMARY KEY, \n",
    "  title TEXT NOT NULL, \n",
    "  description TEXT NOT NULL, \n",
    "  user_id INTEGER REFERENCES users(id)\n",
    ")\n",
    "\"\"\"\n",
    "\n",
    "execute_query(connection, create_posts_table)\n",
    "\n",
    "create_comments_table = \"\"\"\n",
    "    CREATE TABLE IF NOT EXISTS comments (\n",
    "        post_id SERIAL PRIMARY KEY,\n",
    "        text TEXT NOT NULL,\n",
    "        user_id INTEGER REFERENCES users(id)\n",
    "    )\n",
    "\"\"\"\n",
    "\n",
    "execute_query(connection, create_comments_table)\n"
   ]
  },
  {
   "cell_type": "markdown",
   "metadata": {},
   "source": [
    "## Inserting Records"
   ]
  },
  {
   "cell_type": "code",
   "execution_count": 45,
   "metadata": {},
   "outputs": [
    {
     "name": "stdout",
     "output_type": "stream",
     "text": [
      "Query executed successfully\n"
     ]
    }
   ],
   "source": [
    "comments = [\n",
    "    (1, \"Cool\", 2),\n",
    "    (3, \"That's amazing\", 2),\n",
    "    (5, \"Tell me more\", 3),\n",
    "    (4, \"Nice to hear\", 1),\n",
    "    (6, \"Bullshit!\", 2)\n",
    "]\n",
    "\n",
    "comments_records =  \",\".join([\"%s\"]*len(comments))\n",
    "\n",
    "insert_query = (\n",
    "    f\"INSERT INTO comments (post_id, text, user_id) VALUES {comments_records}\"\n",
    ")\n",
    "\n",
    "cursor.execute(insert_query, comments)\n"
   ]
  },
  {
   "cell_type": "code",
   "execution_count": 16,
   "metadata": {},
   "outputs": [
    {
     "name": "stdout",
     "output_type": "stream",
     "text": [
      "%s, %s, %s, %s, %s\n",
      "INSERT INTO users (name, age, gender, nationality) VALUES %s, %s, %s, %s, %s\n"
     ]
    }
   ],
   "source": [
    "users = [\n",
    "    (\"James\", 25, \"male\", \"USA\"),\n",
    "    (\"Leila\", 32, \"female\", \"France\"),\n",
    "    (\"Brigitte\", 35, \"female\", \"England\"),\n",
    "    (\"Mike\", 40, \"male\", \"Denmark\"),\n",
    "    (\"Elizabeth\", 21, \"female\", \"Canada\"),\n",
    "]\n",
    "\n",
    "user_records = \", \".join([\"%s\"] * len(users))\n",
    "## Generates %s, %s, %s, %s, %s\n",
    "\n",
    "insert_query = (\n",
    "    f\"INSERT INTO users (name, age, gender, nationality) VALUES {user_records}\"\n",
    ")\n",
    "## Generates INSERT INTO users (name, age, gender, nationality) VALUES %s, %s, %s, %s, %s\n",
    "\n",
    "print(user_records)\n",
    "print(insert_query)\n",
    "\n",
    "connection.autocommit = True\n",
    "cursor = connection.cursor()\n",
    "cursor.execute(insert_query, users)"
   ]
  },
  {
   "cell_type": "code",
   "execution_count": 18,
   "metadata": {},
   "outputs": [],
   "source": [
    "posts = [\n",
    "    (\"Happy\", \"I am feeling very happy today\", 1),\n",
    "    (\"Hot Weather\", \"The weather is very hot today\", 2),\n",
    "    (\"Help\", \"I need some help with my work\", 2),\n",
    "    (\"Great News\", \"I am getting married\", 1),\n",
    "    (\"Interesting Game\", \"It was a fantastic game of tennis\", 5),\n",
    "    (\"Party\", \"Anyone up for a late-night party today?\", 3),\n",
    "]\n",
    "\n",
    "post_records = \", \".join([\"%s\"] * len(posts))\n",
    "\n",
    "insert_query = (\n",
    "    f\"INSERT INTO posts (title, description, user_id) VALUES {post_records}\"\n",
    ")\n",
    "\n",
    "connection.autocommit = True\n",
    "cursor = connection.cursor()\n",
    "cursor.execute(insert_query, posts)"
   ]
  },
  {
   "cell_type": "markdown",
   "metadata": {},
   "source": [
    " ### Selecting records"
   ]
  },
  {
   "cell_type": "code",
   "execution_count": 24,
   "metadata": {},
   "outputs": [
    {
     "name": "stdout",
     "output_type": "stream",
     "text": [
      "(1, 'James', 25, 'male', 'USA')\n",
      "(2, 'Leila', 32, 'female', 'France')\n",
      "(3, 'Brigitte', 35, 'female', 'England')\n",
      "(4, 'Mike', 40, 'male', 'Denmark')\n",
      "(5, 'Elizabeth', 21, 'female', 'Canada')\n"
     ]
    }
   ],
   "source": [
    "def execute_read_query(connection, query):\n",
    "    cursor = connection.cursor()\n",
    "    result = None\n",
    "    try:\n",
    "        cursor.execute(query)\n",
    "        result = cursor.fetchall()\n",
    "        return result\n",
    "    except OperationalError as e:\n",
    "        print(f\"The error '{e}' occurred\")\n",
    "\n",
    "select_users = \"SELECT * FROM users\"\n",
    "users = execute_read_query(connection, select_users)\n",
    "\n",
    "for user in users:\n",
    "    print(user)"
   ]
  },
  {
   "cell_type": "code",
   "execution_count": 25,
   "metadata": {},
   "outputs": [
    {
     "name": "stdout",
     "output_type": "stream",
     "text": [
      "(1, 'James', 'I am feeling very happy today')\n",
      "(2, 'Leila', 'The weather is very hot today')\n",
      "(2, 'Leila', 'I need some help with my work')\n",
      "(1, 'James', 'I am getting married')\n",
      "(5, 'Elizabeth', 'It was a fantastic game of tennis')\n",
      "(3, 'Brigitte', 'Anyone up for a late-night party today?')\n"
     ]
    }
   ],
   "source": [
    "select_users_posts = \"\"\"\n",
    "SELECT\n",
    "  users.id,\n",
    "  users.name,\n",
    "  posts.description\n",
    "FROM\n",
    "  posts\n",
    "  INNER JOIN users ON users.id = posts.user_id\n",
    "\"\"\"\n",
    "\n",
    "users_posts = execute_read_query(connection, select_users_posts)\n",
    "\n",
    "for users_post in users_posts:\n",
    "    print(users_post)"
   ]
  },
  {
   "cell_type": "code",
   "execution_count": 116,
   "metadata": {},
   "outputs": [
    {
     "name": "stdout",
     "output_type": "stream",
     "text": [
      "(1, 'Happy', 'I am feeling very happy today', 1)\n",
      "(2, 'Hot Weather', 'The weather is very hot today', 2)\n",
      "(3, 'Help', 'I need some help with my work', 2)\n",
      "(4, 'Great News', 'I am getting married', 1)\n",
      "(5, 'Interesting Game', 'It was a fantastic game of tennis', 5)\n",
      "(6, 'Party', 'Anyone up for a late-night party today?', 3)\n"
     ]
    }
   ],
   "source": [
    "select_female_posts = \"\"\"\n",
    "SELECT \n",
    "    users.name,\n",
    "    posts.description\n",
    "FROM\n",
    "    posts\n",
    "    INNER JOIN users ON users.id = posts.user_id\n",
    "WHERE\n",
    "    users.gender = 'female'\n",
    "\"\"\"\n",
    "\n",
    "select_all = \"\"\"\n",
    "SELECT * FROM posts\n",
    "\"\"\"\n",
    "\n",
    "cursor.execute(select_all)\n",
    "results = cursor.fetchall()\n",
    "\n",
    "for result in results:\n",
    "    print(result)"
   ]
  },
  {
   "cell_type": "code",
   "execution_count": 74,
   "metadata": {},
   "outputs": [
    {
     "name": "stdout",
     "output_type": "stream",
     "text": [
      "('It was a fantastic game of tennis', 'Tell me more', 'Brigitte')\n",
      "('I am feeling very happy today', 'Cool', 'Leila')\n",
      "('I need some help with my work', \"That's amazing\", 'Leila')\n",
      "('Anyone up for a late-night party today?', 'Bullshit!', 'Leila')\n"
     ]
    }
   ],
   "source": [
    "select_posts_with_comment = \"\"\"\n",
    "SELECT\n",
    "    posts.description as post,\n",
    "    comments.text as comment,\n",
    "    users.name\n",
    "FROM\n",
    "    posts\n",
    "    INNER JOIN comments ON posts.id = comments.post_id \n",
    "    INNER JOIN users ON users.id = comments.user_id\n",
    "WHERE \n",
    "    users.name IN ('Leila', 'Brigitte')\n",
    "ORDER BY \n",
    "    users.name\n",
    "\"\"\"\n",
    "\n",
    "cursor = connection.cursor()\n",
    "cursor.execute(select_posts_with_comment)\n",
    "results = cursor.fetchall()\n",
    "\n",
    "for result in results: \n",
    "    print(result)\n"
   ]
  },
  {
   "cell_type": "markdown",
   "metadata": {},
   "source": [
    "### Showing columns of selection"
   ]
  },
  {
   "cell_type": "code",
   "execution_count": 12,
   "metadata": {},
   "outputs": [
    {
     "ename": "NameError",
     "evalue": "name 'select_posts_with_comment' is not defined",
     "output_type": "error",
     "traceback": [
      "\u001b[0;31m---------------------------------------------------------------------------\u001b[0m",
      "\u001b[0;31mNameError\u001b[0m                                 Traceback (most recent call last)",
      "\u001b[0;32m<ipython-input-12-07356d0b5388>\u001b[0m in \u001b[0;36m<module>\u001b[0;34m\u001b[0m\n\u001b[1;32m      1\u001b[0m \u001b[0mcursor\u001b[0m \u001b[0;34m=\u001b[0m \u001b[0mconnection\u001b[0m\u001b[0;34m.\u001b[0m\u001b[0mcursor\u001b[0m\u001b[0;34m(\u001b[0m\u001b[0;34m)\u001b[0m\u001b[0;34m\u001b[0m\u001b[0;34m\u001b[0m\u001b[0m\n\u001b[0;32m----> 2\u001b[0;31m \u001b[0mcursor\u001b[0m\u001b[0;34m.\u001b[0m\u001b[0mexecute\u001b[0m\u001b[0;34m(\u001b[0m\u001b[0mselect_posts_with_comment\u001b[0m\u001b[0;34m)\u001b[0m\u001b[0;34m\u001b[0m\u001b[0;34m\u001b[0m\u001b[0m\n\u001b[0m\u001b[1;32m      3\u001b[0m \u001b[0mcursor\u001b[0m\u001b[0;34m.\u001b[0m\u001b[0mfetchall\u001b[0m\u001b[0;34m(\u001b[0m\u001b[0;34m)\u001b[0m\u001b[0;34m\u001b[0m\u001b[0;34m\u001b[0m\u001b[0m\n\u001b[1;32m      4\u001b[0m \u001b[0;34m\u001b[0m\u001b[0m\n\u001b[1;32m      5\u001b[0m \u001b[0mcolumn_names\u001b[0m \u001b[0;34m=\u001b[0m \u001b[0;34m[\u001b[0m\u001b[0mdescription\u001b[0m\u001b[0;34m[\u001b[0m\u001b[0;36m0\u001b[0m\u001b[0;34m]\u001b[0m \u001b[0;32mfor\u001b[0m \u001b[0mdescription\u001b[0m \u001b[0;32min\u001b[0m \u001b[0mcursor\u001b[0m\u001b[0;34m.\u001b[0m\u001b[0mdescription\u001b[0m\u001b[0;34m]\u001b[0m\u001b[0;34m\u001b[0m\u001b[0;34m\u001b[0m\u001b[0m\n",
      "\u001b[0;31mNameError\u001b[0m: name 'select_posts_with_comment' is not defined"
     ]
    }
   ],
   "source": [
    "cursor = connection.cursor()\n",
    "cursor.execute(select_posts_with_comment)\n",
    "cursor.fetchall()\n",
    "\n",
    "column_names = [description[0] for description in cursor.description]\n",
    "print(column_names)"
   ]
  },
  {
   "cell_type": "markdown",
   "metadata": {},
   "source": [
    "## Updating Table Records"
   ]
  },
  {
   "cell_type": "code",
   "execution_count": 145,
   "metadata": {},
   "outputs": [
    {
     "name": "stdout",
     "output_type": "stream",
     "text": [
      "Query executed successfully\n",
      "(2, 'Hot Weather', 'The weather has become better now', 2)\n"
     ]
    }
   ],
   "source": [
    "update_post_description = \"\"\"\n",
    "UPDATE\n",
    "  posts\n",
    "SET\n",
    "  description = 'The weather has become better now'\n",
    "WHERE\n",
    "  id = 2\n",
    "\"\"\"\n",
    "execute_query(connection,  update_post_description)\n",
    "\n",
    "select_post_description = \"\"\"\n",
    "SELECT * FROM\n",
    "  posts\n",
    "WHERE\n",
    "  id = 2\n",
    "\"\"\"\n",
    "\n",
    "cursor = connection.cursor()\n",
    "cursor.execute(select_post_description)\n",
    "results = cursor.fetchall()\n",
    "\n",
    "for r in results:\n",
    "  print(r)"
   ]
  },
  {
   "cell_type": "markdown",
   "metadata": {},
   "source": [
    "## Deleting Table Records"
   ]
  },
  {
   "cell_type": "markdown",
   "metadata": {},
   "source": [
    "    "
   ]
  },
  {
   "cell_type": "code",
   "execution_count": 160,
   "metadata": {},
   "outputs": [
    {
     "name": "stdout",
     "output_type": "stream",
     "text": [
      "Query executed successfully\n",
      "(1, 'Cool', 2)\n",
      "(3, \"That's amazing\", 2)\n",
      "(4, 'Nice to hear', 1)\n",
      "(6, 'Bullshit!', 2)\n"
     ]
    }
   ],
   "source": [
    "## Delete record\n",
    "delete_comment = \"DELETE FROM comments WHERE post_id = 5\"\n",
    "execute_query(connection, delete_comment)\n",
    "\n",
    "select_post_description = \"\"\"\n",
    "SELECT * FROM\n",
    "  comments\n",
    "  ORDER BY post_id\n",
    "\"\"\"\n",
    "\n",
    "cursor = connection.cursor()\n",
    "cursor.execute(select_post_description)\n",
    "results = cursor.fetchall()\n",
    "\n",
    "for r in results:\n",
    "  print(r)"
   ]
  },
  {
   "cell_type": "code",
   "execution_count": 161,
   "metadata": {},
   "outputs": [
    {
     "name": "stdout",
     "output_type": "stream",
     "text": [
      "(1, 'Cool', 2)\n",
      "(3, \"That's amazing\", 2)\n",
      "(4, 'Nice to hear', 1)\n",
      "(5, 'What?', 3)\n",
      "(6, 'Bullshit!', 2)\n"
     ]
    }
   ],
   "source": [
    "# Restor removed record\n",
    "insert_query = (\n",
    "    f\"INSERT INTO comments (post_id, text, user_id) VALUES (5,'What?',3)\"\n",
    ")\n",
    "\n",
    "connection.autocommit = True\n",
    "cursor = connection.cursor()\n",
    "cursor.execute(insert_query)\n",
    "\n",
    "cursor = connection.cursor()\n",
    "cursor.execute(select_post_description)\n",
    "results = cursor.fetchall()\n",
    "\n",
    "for r in results:\n",
    "  print(r)"
   ]
  },
  {
   "cell_type": "markdown",
   "metadata": {},
   "source": [
    "## Loading CSV"
   ]
  },
  {
   "cell_type": "markdown",
   "metadata": {},
   "source": [
    "### Pick out headers from file to input to SQL for table creation"
   ]
  },
  {
   "cell_type": "code",
   "execution_count": 18,
   "metadata": {},
   "outputs": [
    {
     "name": "stdout",
     "output_type": "stream",
     "text": [
      "\"version\" TEXT,\"doi\" TEXT,\"A_WAVE\" TEXT,\"A_STUDY\" TEXT,\"B_COUNTRY\" TEXT,\"B_COUNTRY_ALPHA\" TEXT,\"C_COW_NUM\" TEXT,\"C_COW_ALPHA\" TEXT,\"A_YEAR\" TEXT,\"D_INTERVIEW\" TEXT,\"J_INTDATE\" TEXT,\"FW_END\" TEXT,\"FW_START\" TEXT,\"K_TIME_START\" TEXT,\"K_TIME_END\" TEXT,\"K_DURATION\" TEXT,\"Q_MODE\" TEXT,\"N_REGION_ISO\" TEXT,\"N_REGION_WVS\" TEXT,\"N_TOWN\" TEXT,\"G_TOWNSIZE\" TEXT,\"G_TOWNSIZE2\" TEXT,\"H_SETTLEMENT\" TEXT,\"H_URBRURAL\" TEXT,\"I_PSU\" TEXT,\"O1_LONGITUDE\" TEXT,\"O2_LATITUDE\" TEXT,\"S_INTLANGUAGE\" TEXT,\"LNGE_ISO\" TEXT,\"E_RESPINT\" TEXT,\"F_INTPRIVACY\" TEXT,\"E1_LITERACY\" TEXT,\"W_WEIGHT\" TEXT,\"S018\" TEXT,\"PWGHT\" TEXT,\"S025\" TEXT,\"Q1\" TEXT,\"Q2\" TEXT,\"Q3\" TEXT,\"Q4\" TEXT,\"Q5\" TEXT,\"Q6\" TEXT,\"Q7\" TEXT,\"Q8\" TEXT,\"Q9\" TEXT,\"Q10\" TEXT,\"Q11\" TEXT,\"Q12\" TEXT,\"Q13\" TEXT,\"Q14\" TEXT,\"Q15\" TEXT,\"Q16\" TEXT,\"Q17\" TEXT,\"Q18\" TEXT,\"Q19\" TEXT,\"Q20\" TEXT,\"Q21\" TEXT,\"Q22\" TEXT,\"Q23\" TEXT,\"Q24\" TEXT,\"Q25\" TEXT,\"Q26\" TEXT,\"Q27\" TEXT,\"Q28\" TEXT,\"Q29\" TEXT,\"Q30\" TEXT,\"Q31\" TEXT,\"Q32\" TEXT,\"Q33\" TEXT,\"Q33_3\" TEXT,\"Q34\" TEXT,\"Q34_3\" TEXT,\"Q35\" TEXT,\"Q35_3\" TEXT,\"Q36\" TEXT,\"Q37\" TEXT,\"Q38\" TEXT,\"Q39\" TEXT,\"Q40\" TEXT,\"Q41\" TEXT,\"Q42\" TEXT,\"Q43\" TEXT,\"Q44\" TEXT,\"Q45\" TEXT,\"Q46\" TEXT,\"Q47\" TEXT,\"Q48\" TEXT,\"Q49\" TEXT,\"Q50\" TEXT,\"Q51\" TEXT,\"Q52\" TEXT,\"Q53\" TEXT,\"Q54\" TEXT,\"Q55\" TEXT,\"Q56\" TEXT,\"Q57\" TEXT,\"Q58\" TEXT,\"Q59\" TEXT,\"Q60\" TEXT,\"Q61\" TEXT,\"Q62\" TEXT,\"Q63\" TEXT,\"Q64\" TEXT,\"Q65\" TEXT,\"Q66\" TEXT,\"Q67\" TEXT,\"Q68\" TEXT,\"Q69\" TEXT,\"Q70\" TEXT,\"Q71\" TEXT,\"Q72\" TEXT,\"Q73\" TEXT,\"Q74\" TEXT,\"Q75\" TEXT,\"Q76\" TEXT,\"Q77\" TEXT,\"Q78\" TEXT,\"Q79\" TEXT,\"Q80\" TEXT,\"Q81\" TEXT,\"Q82\" TEXT,\"Q82_EU\" TEXT,\"Q82_APEC\" TEXT,\"Q82_ARABLEAGUE\" TEXT,\"Q82_ASEAN\" TEXT,\"Q82_AFRICANUNION\" TEXT,\"Q82_CIS\" TEXT,\"Q82_ECO\" TEXT,\"Q82_GULFCOOP\" TEXT,\"Q82_ISLCOOP\" TEXT,\"Q82_MERCOSUR\" TEXT,\"Q82_NAFTA\" TEXT,\"Q82_OAS\" TEXT,\"Q82_SAARC\" TEXT,\"Q82_SCO\" TEXT,\"Q82_TLC\" TEXT,\"Q82_UNDP\" TEXT,\"Q83\" TEXT,\"Q84\" TEXT,\"Q85\" TEXT,\"Q86\" TEXT,\"Q87\" TEXT,\"Q88\" TEXT,\"Q89\" TEXT,\"Q90\" TEXT,\"Q91\" TEXT,\"Q92\" TEXT,\"Q93\" TEXT,\"Q94\" TEXT,\"Q95\" TEXT,\"Q96\" TEXT,\"Q97\" TEXT,\"Q98\" TEXT,\"Q99\" TEXT,\"Q100\" TEXT,\"Q101\" TEXT,\"Q102\" TEXT,\"Q103\" TEXT,\"Q104\" TEXT,\"Q105\" TEXT,\"Q106\" TEXT,\"Q107\" TEXT,\"Q108\" TEXT,\"Q109\" TEXT,\"Q110\" TEXT,\"Q111\" TEXT,\"Q112\" TEXT,\"Q113\" TEXT,\"Q114\" TEXT,\"Q115\" TEXT,\"Q116\" TEXT,\"Q117\" TEXT,\"Q118\" TEXT,\"Q119\" TEXT,\"Q120\" TEXT,\"Q121\" TEXT,\"Q122\" TEXT,\"Q123\" TEXT,\"Q124\" TEXT,\"Q125\" TEXT,\"Q126\" TEXT,\"Q127\" TEXT,\"Q128\" TEXT,\"Q129\" TEXT,\"Q130\" TEXT,\"Q131\" TEXT,\"Q132\" TEXT,\"Q133\" TEXT,\"Q134\" TEXT,\"Q135\" TEXT,\"Q136\" TEXT,\"Q137\" TEXT,\"Q138\" TEXT,\"Q139\" TEXT,\"Q140\" TEXT,\"Q141\" TEXT,\"Q142\" TEXT,\"Q143\" TEXT,\"Q144\" TEXT,\"Q145\" TEXT,\"Q146\" TEXT,\"Q147\" TEXT,\"Q148\" TEXT,\"Q149\" TEXT,\"Q150\" TEXT,\"Q151\" TEXT,\"Q152\" TEXT,\"Q153\" TEXT,\"Q154\" TEXT,\"Q155\" TEXT,\"Q156\" TEXT,\"Q157\" TEXT,\"Q158\" TEXT,\"Q159\" TEXT,\"Q160\" TEXT,\"Q161\" TEXT,\"Q162\" TEXT,\"Q163\" TEXT,\"Q164\" TEXT,\"Q165\" TEXT,\"Q166\" TEXT,\"Q167\" TEXT,\"Q168\" TEXT,\"Q169\" TEXT,\"Q170\" TEXT,\"Q171\" TEXT,\"Q172\" TEXT,\"Q173\" TEXT,\"Q174\" TEXT,\"Q175\" TEXT,\"Q176\" TEXT,\"Q177\" TEXT,\"Q178\" TEXT,\"Q179\" TEXT,\"Q180\" TEXT,\"Q181\" TEXT,\"Q182\" TEXT,\"Q183\" TEXT,\"Q184\" TEXT,\"Q185\" TEXT,\"Q186\" TEXT,\"Q187\" TEXT,\"Q188\" TEXT,\"Q189\" TEXT,\"Q190\" TEXT,\"Q191\" TEXT,\"Q192\" TEXT,\"Q193\" TEXT,\"Q194\" TEXT,\"Q195\" TEXT,\"Q196\" TEXT,\"Q197\" TEXT,\"Q198\" TEXT,\"Q199\" TEXT,\"Q200\" TEXT,\"Q201\" TEXT,\"Q202\" TEXT,\"Q203\" TEXT,\"Q204\" TEXT,\"Q205\" TEXT,\"Q206\" TEXT,\"Q207\" TEXT,\"Q208\" TEXT,\"Q209\" TEXT,\"Q210\" TEXT,\"Q211\" TEXT,\"Q212\" TEXT,\"Q213\" TEXT,\"Q214\" TEXT,\"Q215\" TEXT,\"Q216\" TEXT,\"Q217\" TEXT,\"Q218\" TEXT,\"Q219\" TEXT,\"Q220\" TEXT,\"Q221\" TEXT,\"Q222\" TEXT,\"Q223\" TEXT,\"Q223_ABREV\" TEXT,\"Q223_LOCAL\" TEXT,\"Q224\" TEXT,\"Q225\" TEXT,\"Q226\" TEXT,\"Q227\" TEXT,\"Q228\" TEXT,\"Q229\" TEXT,\"Q230\" TEXT,\"Q231\" TEXT,\"Q232\" TEXT,\"Q233\" TEXT,\"Q234\" TEXT,\"Q234A\" TEXT,\"Q235\" TEXT,\"Q236\" TEXT,\"Q237\" TEXT,\"Q238\" TEXT,\"Q239\" TEXT,\"Q240\" TEXT,\"Q241\" TEXT,\"Q242\" TEXT,\"Q243\" TEXT,\"Q244\" TEXT,\"Q245\" TEXT,\"Q246\" TEXT,\"Q247\" TEXT,\"Q248\" TEXT,\"Q249\" TEXT,\"Q250\" TEXT,\"Q251\" TEXT,\"Q252\" TEXT,\"Q253\" TEXT,\"Q254\" TEXT,\"Q255\" TEXT,\"Q256\" TEXT,\"Q257\" TEXT,\"Q258\" TEXT,\"Q259\" TEXT,\"Q260\" TEXT,\"Q261\" TEXT,\"Q262\" TEXT,\"X003R2\" TEXT,\"x003r\" TEXT,\"Q263\" TEXT,\"Q264\" TEXT,\"Q265\" TEXT,\"Q266\" TEXT,\"Q267\" TEXT,\"Q268\" TEXT,\"Q269\" TEXT,\"Q270\" TEXT,\"Q271\" TEXT,\"Q272\" TEXT,\"Q273\" TEXT,\"Q274\" TEXT,\"Q275\" TEXT,\"Q275A\" TEXT,\"Q275R\" TEXT,\"Q276\" TEXT,\"Q276A\" TEXT,\"Q276R\" TEXT,\"Q277\" TEXT,\"Q277A\" TEXT,\"Q277R\" TEXT,\"Q278\" TEXT,\"Q278A\" TEXT,\"Q278R\" TEXT,\"Q279\" TEXT,\"Q280\" TEXT,\"Q281\" TEXT,\"Q282\" TEXT,\"Q283\" TEXT,\"Q284\" TEXT,\"Q285\" TEXT,\"Q286\" TEXT,\"Q287\" TEXT,\"Q288\" TEXT,\"Q288R\" TEXT,\"Q289\" TEXT,\"Q289CS9\" TEXT,\"Q290\" TEXT,\"Y001\" TEXT,\"Y002\" TEXT,\"Y003\" TEXT,\"SACSECVAL\" TEXT,\"RESEMAVAL\" TEXT,\"I_AUTHORITY\" TEXT,\"I_NATIONALISM\" TEXT,\"I_DEVOUT\" TEXT,\"DEFIANCE\" TEXT,\"I_RELIGIMP\" TEXT,\"I_RELIGBEL\" TEXT,\"I_RELIGPRAC\" TEXT,\"DISBELIEF\" TEXT,\"I_NORM1\" TEXT,\"I_NORM2\" TEXT,\"I_NORM3\" TEXT,\"RELATIVISM\" TEXT,\"I_TRUSTARMY\" TEXT,\"I_TRUSTPOLICE\" TEXT,\"I_TRUSTCOURTS\" TEXT,\"SCEPTICISM\" TEXT,\"I_INDEP\" TEXT,\"I_IMAGIN\" TEXT,\"I_NONOBED\" TEXT,\"AUTONOMY\" TEXT,\"I_WOMJOB\" TEXT,\"I_WOMPOL\" TEXT,\"I_WOMEDU\" TEXT,\"EQUALITY\" TEXT,\"I_HOMOLIB\" TEXT,\"I_ABORTLIB\" TEXT,\"I_DIVORLIB\" TEXT,\"CHOICE\" TEXT,\"I_VOICE1\" TEXT,\"I_VOICE2\" TEXT,\"I_VOI2_00\" TEXT,\"VOICE\" TEXT,\"SECVALWGT\" TEXT,\"RESEMAVALWGT\" TEXT,\"fhregion\" TEXT,\"polregfh\" TEXT,\"freestfh\" TEXT,\"prfhrat\" TEXT,\"prfhscore\" TEXT,\"clfhrat\" TEXT,\"clfhscore\" TEXT,\"democ\" TEXT,\"autoc\" TEXT,\"polity\" TEXT,\"durable\" TEXT,\"regtype\" TEXT,\"ruleoflaw\" TEXT,\"corrupttransp\" TEXT,\"electintegr\" TEXT,\"btiregion\" TEXT,\"btistatus\" TEXT,\"btidemstatus\" TEXT,\"btistate\" TEXT,\"btipolpart\" TEXT,\"btiruleoflaw\" TEXT,\"btistability\" TEXT,\"btiintegration\" TEXT,\"btimarket\" TEXT,\"btigovindex\" TEXT,\"btigoveperform\" TEXT,\"btiregime\" TEXT,\"regionWB\" TEXT,\"incomeWB\" TEXT,\"landWB\" TEXT,\"GDPpercap1\" TEXT,\"GDPpercap2\" TEXT,\"giniWB\" TEXT,\"incrichest10p\" TEXT,\"popWB1990\" TEXT,\"popWB2000\" TEXT,\"popWB2019\" TEXT,\"lifeexpect\" TEXT,\"popgrowth\" TEXT,\"urbanpop\" TEXT,\"laborforce\" TEXT,\"deathrate\" TEXT,\"unemployfem\" TEXT,\"unemploymale\" TEXT,\"unemploytotal\" TEXT,\"accessclfuel\" TEXT,\"accesselectr\" TEXT,\"renewelectr\" TEXT,\"co2emis\" TEXT,\"co2percap\" TEXT,\"easeofbusiness\" TEXT,\"militaryexp\" TEXT,\"Trade\" TEXT,\"healthexp\" TEXT,\"educationexp\" TEXT,\"medageun\" TEXT,\"meanschooling\" TEXT,\"educationHDI\" TEXT,\"compulseduc\" TEXT,\"GII\" TEXT,\"DGI\" TEXT,\"womenparl\" TEXT,\"hdi\" TEXT,\"incomeindexHDI\" TEXT,\"humanineqiality\" TEXT,\"lifeexpectHDI\" TEXT,\"homiciderate\" TEXT,\"Refugeesorigin\" TEXT,\"internetusers\" TEXT,\"mobphone\" TEXT,\"migrationrate\" TEXT,\"schoolgpi\" TEXT,\"femchoutsch\" TEXT,\"choutsch\" TEXT,\"v2x_polyarchy\" TEXT,\"v2x_libdem\" TEXT,\"v2x_partipdem\" TEXT,\"v2x_delibdem\" TEXT,\"v2x_egaldem\" TEXT,\"v2x_freexp_altinf\" TEXT,\"v2x_frassoc_thick\" TEXT,\"v2xel_frefair\" TEXT,\"v2xcl_rol\" TEXT,\"v2x_cspart\" TEXT,\"v2xeg_eqdr\" TEXT,\"v2excrptps\" TEXT,\"v2exthftps\" TEXT,\"v2juaccnt\" TEXT,\"v2cltrnslw\" TEXT,\"v2clacjust\" TEXT,\"v2clsocgrp\" TEXT,\"v2clacfree\" TEXT,\"v2clrelig\" TEXT,\"v2csrlgrep\" TEXT,\"v2mecenefm\" TEXT,\"v2mecenefi\" TEXT,\"v2mebias\" TEXT,\"v2pepwrses\" TEXT,\"v2pepwrgen\" TEXT,\"v2peedueq\" TEXT,\"v2pehealth\" TEXT,\"v2peapsecon\" TEXT,\"v2peasjsoecon\" TEXT,\"v2clgencl\" TEXT,\"v2peasjgen\" TEXT,\"v2peasbgen\" TEXT,\"v2cafres\" TEXT,\"v2cafexch\" TEXT,\"v2x_corr\" TEXT,\"v2x_gender\" TEXT,\"v2x_gencl\" TEXT,\"v2x_genpp\" TEXT,\"v2x_rule\" TEXT,\"v2xcl_acjst\" TEXT,\"ID_GPS\" TEXT,\"ID_PartyFacts\" TEXT,\"Partyname\" TEXT,\"Partyabb\" TEXT,\"CPARTY\" TEXT,\"CPARTYABB\" TEXT,\"Type_Values\" TEXT,\"Type_Populism\" TEXT,\"Type_Populist_Values\" TEXT,\"Type_Partysize_vote\" TEXT,\"Type_Partysize_seat\" TEXT,\"GPS_V4_Scale\" TEXT,\"GPS_V6_Scale\" TEXT,\"GPS_V8_Scale\" TEXT,\"GPS_V9\" TEXT,\"GPS_V10\" TEXT,\"GPS_V11\" TEXT,\"GPS_V12\" TEXT,\"GPS_V13\" TEXT,\"GPS_V14\" TEXT,\"GPS_V15\" TEXT,\"GPS_V16\" TEXT,\"GPS_V17\" TEXT,\"WVS_LR_PartyVoter\" TEXT,\"WVS_LibCon_PartyVoter\" TEXT,\"WVS_Polmistrust_PartyVoter\" TEXT,\"WVS_LR_MedianVoter\" TEXT,\"WVS_LibCon_MedianVoter\" TEXT,\"v2psbars\" TEXT,\"v2psorgs\" TEXT,\"v2psprbrch\" TEXT,\"v2psprlnks\" TEXT,\"v2psplats\" TEXT,\"v2xnp_client\" TEXT,\"v2xps_party\" TEXT\n"
     ]
    },
    {
     "ename": "DuplicateTable",
     "evalue": "relation \"questions_large\" already exists\n",
     "output_type": "error",
     "traceback": [
      "\u001b[0;31m---------------------------------------------------------------------------\u001b[0m",
      "\u001b[0;31mDuplicateTable\u001b[0m                            Traceback (most recent call last)",
      "\u001b[0;32m<ipython-input-18-c7aa7407933c>\u001b[0m in \u001b[0;36m<module>\u001b[0;34m\u001b[0m\n\u001b[1;32m     23\u001b[0m \u001b[0;32mwith\u001b[0m \u001b[0mconnection\u001b[0m\u001b[0;34m:\u001b[0m\u001b[0;34m\u001b[0m\u001b[0;34m\u001b[0m\u001b[0m\n\u001b[1;32m     24\u001b[0m         \u001b[0;32mwith\u001b[0m \u001b[0mconnection\u001b[0m\u001b[0;34m.\u001b[0m\u001b[0mcursor\u001b[0m\u001b[0;34m(\u001b[0m\u001b[0;34m)\u001b[0m \u001b[0;32mas\u001b[0m \u001b[0mcursor\u001b[0m\u001b[0;34m:\u001b[0m\u001b[0;34m\u001b[0m\u001b[0;34m\u001b[0m\u001b[0m\n\u001b[0;32m---> 25\u001b[0;31m             \u001b[0mcursor\u001b[0m\u001b[0;34m.\u001b[0m\u001b[0mexecute\u001b[0m\u001b[0;34m(\u001b[0m\u001b[0mcreate_answers_table\u001b[0m\u001b[0;34m)\u001b[0m\u001b[0;34m\u001b[0m\u001b[0;34m\u001b[0m\u001b[0m\n\u001b[0m\u001b[1;32m     26\u001b[0m             \u001b[0mresults\u001b[0m \u001b[0;34m=\u001b[0m \u001b[0mcursor\u001b[0m\u001b[0;34m.\u001b[0m\u001b[0mfetchall\u001b[0m\u001b[0;34m(\u001b[0m\u001b[0;34m)\u001b[0m\u001b[0;34m\u001b[0m\u001b[0;34m\u001b[0m\u001b[0m\n\u001b[1;32m     27\u001b[0m \u001b[0;34m\u001b[0m\u001b[0m\n",
      "\u001b[0;31mDuplicateTable\u001b[0m: relation \"questions_large\" already exists\n"
     ]
    }
   ],
   "source": [
    "cursor = connection.cursor()\n",
    "with open('./data/WVS_Cross-National_Wave_7_csv_v2_0.csv', 'r') as f:\n",
    "    # Notice that we don't need the `csv` module.\n",
    "    headers = next(f) # Skip the header row.\n",
    "\n",
    "head = headers.replace('\\ufeff','').strip().replace(';',',').split(',')\n",
    "\n",
    "new_headers = ''\n",
    "for i in range(len(head)):\n",
    "    head[i] = head[i] + ' TEXT'\n",
    "    new_headers += head[i]+','\n",
    "\n",
    "\n",
    "new_headers = new_headers[:-1]\n",
    "\n",
    "print(new_headers)\n",
    "\n",
    "create_answers_table = f\"\"\"\n",
    "    CREATE TABLE questions_large (\n",
    "        {new_headers}\n",
    "    )\n",
    "\"\"\"\n",
    "with connection:\n",
    "        with connection.cursor() as cursor:\n",
    "            cursor.execute(create_answers_table)\n",
    "            results = cursor.fetchall()\n",
    "\n",
    "print(results)            \n",
    "#print(create_answers_table)\n",
    "#cursor.execute(create_answers_table)\n"
   ]
  },
  {
   "cell_type": "code",
   "execution_count": 16,
   "metadata": {},
   "outputs": [
    {
     "name": "stdout",
     "output_type": "stream",
     "text": [
      "Connection to PostgreSQL DB successful\n"
     ]
    }
   ],
   "source": [
    "connection = create_connection(\n",
    "    \"country_app\", \"postgres\", \"\", \"127.0.0.1\", \"5432\"\n",
    ")"
   ]
  },
  {
   "cell_type": "code",
   "execution_count": 7,
   "metadata": {},
   "outputs": [
    {
     "data": {
      "text/plain": [
       "'/Users/august/Documents/Programming/country_viz'"
      ]
     },
     "execution_count": 7,
     "metadata": {},
     "output_type": "execute_result"
    }
   ],
   "source": [
    "import os \n",
    "os.getcwd()"
   ]
  },
  {
   "cell_type": "code",
   "execution_count": null,
   "metadata": {},
   "outputs": [],
   "source": []
  },
  {
   "cell_type": "markdown",
   "metadata": {},
   "source": [
    "### Pick out headers as iterable to input to cursor.copy_from"
   ]
  },
  {
   "cell_type": "code",
   "execution_count": 95,
   "metadata": {},
   "outputs": [],
   "source": [
    "cursor = connection.cursor()\n",
    "with open('./data/WVS_Cross-National_Wave_7_csv_v2_0.csv', 'r') as f:\n",
    "    # Notice that we don't need the `csv` module.\n",
    "    headers = next(f) # Skip the header row.\n",
    "\n",
    "head = headers.replace('\\ufeff','').strip().replace(';',',').split(',')\n",
    "head=list(map(lambda a:a[1:-1],head))"
   ]
  },
  {
   "cell_type": "markdown",
   "metadata": {},
   "source": [
    "### Loading answers and questions files"
   ]
  },
  {
   "cell_type": "code",
   "execution_count": 48,
   "metadata": {},
   "outputs": [],
   "source": [
    "## Load answers file\n",
    "cursor = connection.cursor()\n",
    "with open('./data/answers_v2.csv', 'r') as f:\n",
    "    # Notice that we don't need the `csv` module.\n",
    "    header = next(f) # Skip the header row.\n",
    "    cursor.copy_from(f, 'answers_2', sep=';')\n",
    "    \n",
    "connection.commit()"
   ]
  },
  {
   "cell_type": "code",
   "execution_count": 94,
   "metadata": {},
   "outputs": [],
   "source": [
    "## Load questions file, columns make sure not all columns are included\n",
    "cursor = connection.cursor()\n",
    "with open('./data/WVS_Cross-National_Wave_7_cleaning_2.csv', 'r') as f:\n",
    "    # Notice that we don't need the `csv` module.\n",
    "    next(f) # Skip the header row.\n",
    "    \n",
    "    # head[:]\n",
    "    cursor.copy_from(f, 'questions', sep=';', columns=head[:95])\n",
    "\n",
    "connection.commit()"
   ]
  },
  {
   "cell_type": "markdown",
   "metadata": {},
   "source": [
    "# Grouping large questions"
   ]
  },
  {
   "cell_type": "code",
   "execution_count": 1,
   "metadata": {},
   "outputs": [
    {
     "ename": "NameError",
     "evalue": "name 'connection' is not defined",
     "output_type": "error",
     "traceback": [
      "\u001b[0;31m---------------------------------------------------------------------------\u001b[0m",
      "\u001b[0;31mNameError\u001b[0m                                 Traceback (most recent call last)",
      "\u001b[0;32m<ipython-input-1-3057562d0ebd>\u001b[0m in \u001b[0;36m<module>\u001b[0;34m\u001b[0m\n\u001b[1;32m     47\u001b[0m \u001b[0;34m\u001b[0m\u001b[0m\n\u001b[1;32m     48\u001b[0m \u001b[0mquestion_nr\u001b[0m \u001b[0;34m=\u001b[0m \u001b[0;36m49\u001b[0m\u001b[0;34m\u001b[0m\u001b[0;34m\u001b[0m\u001b[0m\n\u001b[0;32m---> 49\u001b[0;31m \u001b[0mask_question\u001b[0m\u001b[0;34m(\u001b[0m\u001b[0mquestion_nr\u001b[0m\u001b[0;34m,\u001b[0m \u001b[0;34m'AND'\u001b[0m\u001b[0;34m)\u001b[0m\u001b[0;34m\u001b[0m\u001b[0;34m\u001b[0m\u001b[0m\n\u001b[0m\u001b[1;32m     50\u001b[0m \u001b[0mask_question\u001b[0m\u001b[0;34m(\u001b[0m\u001b[0mquestion_nr\u001b[0m\u001b[0;34m,\u001b[0m \u001b[0;34m'IRQ'\u001b[0m\u001b[0;34m)\u001b[0m\u001b[0;34m\u001b[0m\u001b[0;34m\u001b[0m\u001b[0m\n\u001b[1;32m     51\u001b[0m \u001b[0mask_question\u001b[0m\u001b[0;34m(\u001b[0m\u001b[0mquestion_nr\u001b[0m\u001b[0;34m,\u001b[0m \u001b[0;34m'JPN'\u001b[0m\u001b[0;34m)\u001b[0m\u001b[0;34m\u001b[0m\u001b[0;34m\u001b[0m\u001b[0m\n",
      "\u001b[0;32m<ipython-input-1-3057562d0ebd>\u001b[0m in \u001b[0;36mask_question\u001b[0;34m(question_nr, country_alpha)\u001b[0m\n\u001b[1;32m      8\u001b[0m     \"\"\"\n\u001b[1;32m      9\u001b[0m \u001b[0;34m\u001b[0m\u001b[0m\n\u001b[0;32m---> 10\u001b[0;31m     \u001b[0mcursor\u001b[0m \u001b[0;34m=\u001b[0m \u001b[0mconnection\u001b[0m\u001b[0;34m.\u001b[0m\u001b[0mcursor\u001b[0m\u001b[0;34m(\u001b[0m\u001b[0;34m)\u001b[0m\u001b[0;34m\u001b[0m\u001b[0;34m\u001b[0m\u001b[0m\n\u001b[0m\u001b[1;32m     11\u001b[0m     \u001b[0mcursor\u001b[0m\u001b[0;34m.\u001b[0m\u001b[0mexecute\u001b[0m\u001b[0;34m(\u001b[0m\u001b[0mselect_question_answers\u001b[0m\u001b[0;34m)\u001b[0m\u001b[0;34m\u001b[0m\u001b[0;34m\u001b[0m\u001b[0m\n\u001b[1;32m     12\u001b[0m     \u001b[0mresults\u001b[0m \u001b[0;34m=\u001b[0m \u001b[0mcursor\u001b[0m\u001b[0;34m.\u001b[0m\u001b[0mfetchall\u001b[0m\u001b[0;34m(\u001b[0m\u001b[0;34m)\u001b[0m\u001b[0;34m\u001b[0m\u001b[0;34m\u001b[0m\u001b[0m\n",
      "\u001b[0;31mNameError\u001b[0m: name 'connection' is not defined"
     ]
    }
   ],
   "source": [
    "import pandas as pd\n",
    "\n",
    "answer_dict = {'-5':'alt_op_5','-4':'alt_op_4','-3':'alt_op_3','-2':'alt_op_2','-1':'alt_op_1','1':'op_1','2':'op_2','3':'op_3','4':'op_4','5':'op_5','6':'op_6','7':'op_7','8':'op_8','9':'op_9','10':'op_10'}\n",
    "\n",
    "def ask_question(question_nr, country_alpha):\n",
    "    select_question_answers = f\"\"\"\n",
    "        SELECT \"Q{question_nr}\", COUNT(\"Q{question_nr}\") FROM QUESTIONS WHERE \"B_COUNTRY_ALPHA\" = '{country_alpha}' GROUP BY \"Q{question_nr}\" ORDER BY \"Q{question_nr}\"\n",
    "    \"\"\"\n",
    "\n",
    "    cursor = connection.cursor()\n",
    "    cursor.execute(select_question_answers)\n",
    "    results = cursor.fetchall()\n",
    "\n",
    "    cols = ''\n",
    "    freq = []\n",
    "    for r in results:\n",
    "        cols += (answer_dict[str(r[0])])+','\n",
    "        freq.append(r[1])\n",
    "\n",
    "    ## Calculate share\n",
    "    sum = 0\n",
    "    for opt in freq:\n",
    "        sum += int(opt)\n",
    "    freq=list(map(lambda a:round((a/sum),4)*100,freq))\n",
    "\n",
    "\n",
    "    select_answers = f\"\"\"SELECT q,theme,subtheme,{cols[:-1]} FROM ANSWERS_2 WHERE \"q\" = '{question_nr}.0'\"\"\"\n",
    "    select_columns = \"\"\"SELECT column_name, ordinal_position FROM information_schema.columns WHERE table_name = 'answers_2'\"\"\"\n",
    "\n",
    "    def get_selection(query): \n",
    "        cursor = connection.cursor()\n",
    "        cursor.execute(query)\n",
    "        results = cursor.fetchall()\n",
    "\n",
    "        return results\n",
    "            \n",
    "    question_details = get_selection(select_answers)[0]\n",
    "    freq = list(map(lambda a:str(round(a,4))+\"%\",freq)) ## add percentages, but string\n",
    "    data = [*list(question_details[0:3]),*freq,sum]\n",
    "    \n",
    "    columns = [*['Question','Theme','Subtheme'],*question_details[3:],*['Answers']]\n",
    "    df = pd.DataFrame([data],columns=columns)\n",
    "    print(country_alpha)\n",
    "    display(df)\n",
    "    return df\n",
    "    \n",
    "\n",
    "question_nr = 49\n",
    "ask_question(question_nr, 'AND')\n",
    "ask_question(question_nr, 'IRQ')\n",
    "ask_question(question_nr, 'JPN')\n"
   ]
  },
  {
   "cell_type": "code",
   "execution_count": 273,
   "metadata": {},
   "outputs": [
    {
     "ename": "TypeError",
     "evalue": "'<' not supported between instances of 'int' and 'str'",
     "output_type": "error",
     "traceback": [
      "\u001b[0;31m---------------------------------------------------------------------------\u001b[0m",
      "\u001b[0;31mTypeError\u001b[0m                                 Traceback (most recent call last)",
      "\u001b[0;32m<ipython-input-273-0ad78c273a88>\u001b[0m in \u001b[0;36m<module>\u001b[0;34m\u001b[0m\n\u001b[1;32m      4\u001b[0m \u001b[0;34m\u001b[0m\u001b[0m\n\u001b[1;32m      5\u001b[0m \u001b[0;34m\u001b[0m\u001b[0m\n\u001b[0;32m----> 6\u001b[0;31m \u001b[0max\u001b[0m \u001b[0;34m=\u001b[0m \u001b[0msns\u001b[0m\u001b[0;34m.\u001b[0m\u001b[0mviolinplot\u001b[0m\u001b[0;34m(\u001b[0m\u001b[0mx\u001b[0m\u001b[0;34m=\u001b[0m\u001b[0mvec\u001b[0m\u001b[0;34m)\u001b[0m\u001b[0;34m\u001b[0m\u001b[0;34m\u001b[0m\u001b[0m\n\u001b[0m",
      "\u001b[0;32m~/opt/anaconda3/lib/python3.7/site-packages/seaborn/categorical.py\u001b[0m in \u001b[0;36mviolinplot\u001b[0;34m(x, y, hue, data, order, hue_order, bw, cut, scale, scale_hue, gridsize, width, inner, split, dodge, orient, linewidth, color, palette, saturation, ax, **kwargs)\u001b[0m\n\u001b[1;32m   2391\u001b[0m                              \u001b[0mbw\u001b[0m\u001b[0;34m,\u001b[0m \u001b[0mcut\u001b[0m\u001b[0;34m,\u001b[0m \u001b[0mscale\u001b[0m\u001b[0;34m,\u001b[0m \u001b[0mscale_hue\u001b[0m\u001b[0;34m,\u001b[0m \u001b[0mgridsize\u001b[0m\u001b[0;34m,\u001b[0m\u001b[0;34m\u001b[0m\u001b[0;34m\u001b[0m\u001b[0m\n\u001b[1;32m   2392\u001b[0m                              \u001b[0mwidth\u001b[0m\u001b[0;34m,\u001b[0m \u001b[0minner\u001b[0m\u001b[0;34m,\u001b[0m \u001b[0msplit\u001b[0m\u001b[0;34m,\u001b[0m \u001b[0mdodge\u001b[0m\u001b[0;34m,\u001b[0m \u001b[0morient\u001b[0m\u001b[0;34m,\u001b[0m \u001b[0mlinewidth\u001b[0m\u001b[0;34m,\u001b[0m\u001b[0;34m\u001b[0m\u001b[0;34m\u001b[0m\u001b[0m\n\u001b[0;32m-> 2393\u001b[0;31m                              color, palette, saturation)\n\u001b[0m\u001b[1;32m   2394\u001b[0m \u001b[0;34m\u001b[0m\u001b[0m\n\u001b[1;32m   2395\u001b[0m     \u001b[0;32mif\u001b[0m \u001b[0max\u001b[0m \u001b[0;32mis\u001b[0m \u001b[0;32mNone\u001b[0m\u001b[0;34m:\u001b[0m\u001b[0;34m\u001b[0m\u001b[0;34m\u001b[0m\u001b[0m\n",
      "\u001b[0;32m~/opt/anaconda3/lib/python3.7/site-packages/seaborn/categorical.py\u001b[0m in \u001b[0;36m__init__\u001b[0;34m(self, x, y, hue, data, order, hue_order, bw, cut, scale, scale_hue, gridsize, width, inner, split, dodge, orient, linewidth, color, palette, saturation)\u001b[0m\n\u001b[1;32m    559\u001b[0m         \u001b[0mself\u001b[0m\u001b[0;34m.\u001b[0m\u001b[0mestablish_variables\u001b[0m\u001b[0;34m(\u001b[0m\u001b[0mx\u001b[0m\u001b[0;34m,\u001b[0m \u001b[0my\u001b[0m\u001b[0;34m,\u001b[0m \u001b[0mhue\u001b[0m\u001b[0;34m,\u001b[0m \u001b[0mdata\u001b[0m\u001b[0;34m,\u001b[0m \u001b[0morient\u001b[0m\u001b[0;34m,\u001b[0m \u001b[0morder\u001b[0m\u001b[0;34m,\u001b[0m \u001b[0mhue_order\u001b[0m\u001b[0;34m)\u001b[0m\u001b[0;34m\u001b[0m\u001b[0;34m\u001b[0m\u001b[0m\n\u001b[1;32m    560\u001b[0m         \u001b[0mself\u001b[0m\u001b[0;34m.\u001b[0m\u001b[0mestablish_colors\u001b[0m\u001b[0;34m(\u001b[0m\u001b[0mcolor\u001b[0m\u001b[0;34m,\u001b[0m \u001b[0mpalette\u001b[0m\u001b[0;34m,\u001b[0m \u001b[0msaturation\u001b[0m\u001b[0;34m)\u001b[0m\u001b[0;34m\u001b[0m\u001b[0;34m\u001b[0m\u001b[0m\n\u001b[0;32m--> 561\u001b[0;31m         \u001b[0mself\u001b[0m\u001b[0;34m.\u001b[0m\u001b[0mestimate_densities\u001b[0m\u001b[0;34m(\u001b[0m\u001b[0mbw\u001b[0m\u001b[0;34m,\u001b[0m \u001b[0mcut\u001b[0m\u001b[0;34m,\u001b[0m \u001b[0mscale\u001b[0m\u001b[0;34m,\u001b[0m \u001b[0mscale_hue\u001b[0m\u001b[0;34m,\u001b[0m \u001b[0mgridsize\u001b[0m\u001b[0;34m)\u001b[0m\u001b[0;34m\u001b[0m\u001b[0;34m\u001b[0m\u001b[0m\n\u001b[0m\u001b[1;32m    562\u001b[0m \u001b[0;34m\u001b[0m\u001b[0m\n\u001b[1;32m    563\u001b[0m         \u001b[0mself\u001b[0m\u001b[0;34m.\u001b[0m\u001b[0mgridsize\u001b[0m \u001b[0;34m=\u001b[0m \u001b[0mgridsize\u001b[0m\u001b[0;34m\u001b[0m\u001b[0;34m\u001b[0m\u001b[0m\n",
      "\u001b[0;32m~/opt/anaconda3/lib/python3.7/site-packages/seaborn/categorical.py\u001b[0m in \u001b[0;36mestimate_densities\u001b[0;34m(self, bw, cut, scale, scale_hue, gridsize)\u001b[0m\n\u001b[1;32m    617\u001b[0m \u001b[0;34m\u001b[0m\u001b[0m\n\u001b[1;32m    618\u001b[0m                 \u001b[0;31m# Handle special case of a single unique datapoint\u001b[0m\u001b[0;34m\u001b[0m\u001b[0;34m\u001b[0m\u001b[0;34m\u001b[0m\u001b[0m\n\u001b[0;32m--> 619\u001b[0;31m                 \u001b[0;32melif\u001b[0m \u001b[0mnp\u001b[0m\u001b[0;34m.\u001b[0m\u001b[0munique\u001b[0m\u001b[0;34m(\u001b[0m\u001b[0mkde_data\u001b[0m\u001b[0;34m)\u001b[0m\u001b[0;34m.\u001b[0m\u001b[0msize\u001b[0m \u001b[0;34m==\u001b[0m \u001b[0;36m1\u001b[0m\u001b[0;34m:\u001b[0m\u001b[0;34m\u001b[0m\u001b[0;34m\u001b[0m\u001b[0m\n\u001b[0m\u001b[1;32m    620\u001b[0m                     \u001b[0msupport\u001b[0m\u001b[0;34m.\u001b[0m\u001b[0mappend\u001b[0m\u001b[0;34m(\u001b[0m\u001b[0mnp\u001b[0m\u001b[0;34m.\u001b[0m\u001b[0munique\u001b[0m\u001b[0;34m(\u001b[0m\u001b[0mkde_data\u001b[0m\u001b[0;34m)\u001b[0m\u001b[0;34m)\u001b[0m\u001b[0;34m\u001b[0m\u001b[0;34m\u001b[0m\u001b[0m\n\u001b[1;32m    621\u001b[0m                     \u001b[0mdensity\u001b[0m\u001b[0;34m.\u001b[0m\u001b[0mappend\u001b[0m\u001b[0;34m(\u001b[0m\u001b[0mnp\u001b[0m\u001b[0;34m.\u001b[0m\u001b[0marray\u001b[0m\u001b[0;34m(\u001b[0m\u001b[0;34m[\u001b[0m\u001b[0;36m1.\u001b[0m\u001b[0;34m]\u001b[0m\u001b[0;34m)\u001b[0m\u001b[0;34m)\u001b[0m\u001b[0;34m\u001b[0m\u001b[0;34m\u001b[0m\u001b[0m\n",
      "\u001b[0;32m<__array_function__ internals>\u001b[0m in \u001b[0;36munique\u001b[0;34m(*args, **kwargs)\u001b[0m\n",
      "\u001b[0;32m~/opt/anaconda3/lib/python3.7/site-packages/numpy/lib/arraysetops.py\u001b[0m in \u001b[0;36munique\u001b[0;34m(ar, return_index, return_inverse, return_counts, axis)\u001b[0m\n\u001b[1;32m    261\u001b[0m     \u001b[0mar\u001b[0m \u001b[0;34m=\u001b[0m \u001b[0mnp\u001b[0m\u001b[0;34m.\u001b[0m\u001b[0masanyarray\u001b[0m\u001b[0;34m(\u001b[0m\u001b[0mar\u001b[0m\u001b[0;34m)\u001b[0m\u001b[0;34m\u001b[0m\u001b[0;34m\u001b[0m\u001b[0m\n\u001b[1;32m    262\u001b[0m     \u001b[0;32mif\u001b[0m \u001b[0maxis\u001b[0m \u001b[0;32mis\u001b[0m \u001b[0;32mNone\u001b[0m\u001b[0;34m:\u001b[0m\u001b[0;34m\u001b[0m\u001b[0;34m\u001b[0m\u001b[0m\n\u001b[0;32m--> 263\u001b[0;31m         \u001b[0mret\u001b[0m \u001b[0;34m=\u001b[0m \u001b[0m_unique1d\u001b[0m\u001b[0;34m(\u001b[0m\u001b[0mar\u001b[0m\u001b[0;34m,\u001b[0m \u001b[0mreturn_index\u001b[0m\u001b[0;34m,\u001b[0m \u001b[0mreturn_inverse\u001b[0m\u001b[0;34m,\u001b[0m \u001b[0mreturn_counts\u001b[0m\u001b[0;34m)\u001b[0m\u001b[0;34m\u001b[0m\u001b[0;34m\u001b[0m\u001b[0m\n\u001b[0m\u001b[1;32m    264\u001b[0m         \u001b[0;32mreturn\u001b[0m \u001b[0m_unpack_tuple\u001b[0m\u001b[0;34m(\u001b[0m\u001b[0mret\u001b[0m\u001b[0;34m)\u001b[0m\u001b[0;34m\u001b[0m\u001b[0;34m\u001b[0m\u001b[0m\n\u001b[1;32m    265\u001b[0m \u001b[0;34m\u001b[0m\u001b[0m\n",
      "\u001b[0;32m~/opt/anaconda3/lib/python3.7/site-packages/numpy/lib/arraysetops.py\u001b[0m in \u001b[0;36m_unique1d\u001b[0;34m(ar, return_index, return_inverse, return_counts)\u001b[0m\n\u001b[1;32m    309\u001b[0m         \u001b[0maux\u001b[0m \u001b[0;34m=\u001b[0m \u001b[0mar\u001b[0m\u001b[0;34m[\u001b[0m\u001b[0mperm\u001b[0m\u001b[0;34m]\u001b[0m\u001b[0;34m\u001b[0m\u001b[0;34m\u001b[0m\u001b[0m\n\u001b[1;32m    310\u001b[0m     \u001b[0;32melse\u001b[0m\u001b[0;34m:\u001b[0m\u001b[0;34m\u001b[0m\u001b[0;34m\u001b[0m\u001b[0m\n\u001b[0;32m--> 311\u001b[0;31m         \u001b[0mar\u001b[0m\u001b[0;34m.\u001b[0m\u001b[0msort\u001b[0m\u001b[0;34m(\u001b[0m\u001b[0;34m)\u001b[0m\u001b[0;34m\u001b[0m\u001b[0;34m\u001b[0m\u001b[0m\n\u001b[0m\u001b[1;32m    312\u001b[0m         \u001b[0maux\u001b[0m \u001b[0;34m=\u001b[0m \u001b[0mar\u001b[0m\u001b[0;34m\u001b[0m\u001b[0;34m\u001b[0m\u001b[0m\n\u001b[1;32m    313\u001b[0m     \u001b[0mmask\u001b[0m \u001b[0;34m=\u001b[0m \u001b[0mnp\u001b[0m\u001b[0;34m.\u001b[0m\u001b[0mempty\u001b[0m\u001b[0;34m(\u001b[0m\u001b[0maux\u001b[0m\u001b[0;34m.\u001b[0m\u001b[0mshape\u001b[0m\u001b[0;34m,\u001b[0m \u001b[0mdtype\u001b[0m\u001b[0;34m=\u001b[0m\u001b[0mnp\u001b[0m\u001b[0;34m.\u001b[0m\u001b[0mbool_\u001b[0m\u001b[0;34m)\u001b[0m\u001b[0;34m\u001b[0m\u001b[0;34m\u001b[0m\u001b[0m\n",
      "\u001b[0;31mTypeError\u001b[0m: '<' not supported between instances of 'int' and 'str'"
     ]
    }
   ],
   "source": []
  },
  {
   "cell_type": "code",
   "execution_count": 209,
   "metadata": {},
   "outputs": [],
   "source": [
    "import pandas as pd\n"
   ]
  },
  {
   "cell_type": "code",
   "execution_count": 238,
   "metadata": {},
   "outputs": [
    {
     "data": {
      "text/html": [
       "<div>\n",
       "<style scoped>\n",
       "    .dataframe tbody tr th:only-of-type {\n",
       "        vertical-align: middle;\n",
       "    }\n",
       "\n",
       "    .dataframe tbody tr th {\n",
       "        vertical-align: top;\n",
       "    }\n",
       "\n",
       "    .dataframe thead th {\n",
       "        text-align: right;\n",
       "    }\n",
       "</style>\n",
       "<table border=\"1\" class=\"dataframe\">\n",
       "  <thead>\n",
       "    <tr style=\"text-align: right;\">\n",
       "      <th></th>\n",
       "      <th>question</th>\n",
       "      <th>theme</th>\n",
       "      <th>subtheme</th>\n",
       "      <th>Don't know</th>\n",
       "      <th>No answer</th>\n",
       "      <th>Very important</th>\n",
       "      <th>Rather important</th>\n",
       "      <th>Not very important</th>\n",
       "      <th>Not at all important</th>\n",
       "    </tr>\n",
       "  </thead>\n",
       "  <tbody>\n",
       "    <tr>\n",
       "      <th>0</th>\n",
       "      <td>4.0</td>\n",
       "      <td>Important in life</td>\n",
       "      <td>Politics</td>\n",
       "      <td>25</td>\n",
       "      <td>5</td>\n",
       "      <td>211</td>\n",
       "      <td>257</td>\n",
       "      <td>333</td>\n",
       "      <td>369</td>\n",
       "    </tr>\n",
       "  </tbody>\n",
       "</table>\n",
       "</div>"
      ],
      "text/plain": [
       "  question              theme  subtheme  Don't know  No answer  \\\n",
       "0      4.0  Important in life  Politics          25          5   \n",
       "\n",
       "   Very important  Rather important  Not very important  Not at all important  \n",
       "0             211               257                 333                   369  "
      ]
     },
     "execution_count": 238,
     "metadata": {},
     "output_type": "execute_result"
    }
   ],
   "source": []
  },
  {
   "cell_type": "code",
   "execution_count": 237,
   "metadata": {},
   "outputs": [
    {
     "data": {
      "text/plain": [
       "['question',\n",
       " 'theme',\n",
       " 'subtheme',\n",
       " \"Don't know\",\n",
       " 'No answer',\n",
       " 'Very important',\n",
       " 'Rather important',\n",
       " 'Not very important',\n",
       " 'Not at all important']"
      ]
     },
     "execution_count": 237,
     "metadata": {},
     "output_type": "execute_result"
    }
   ],
   "source": [
    "columns = [*['question','theme','subtheme'],*question_details[3:]]\n",
    "columns"
   ]
  },
  {
   "cell_type": "code",
   "execution_count": 232,
   "metadata": {},
   "outputs": [
    {
     "data": {
      "text/plain": [
       "['4.0', 'Important in life', 'Politics', 25, 5, 211, 257, 333, 369]"
      ]
     },
     "execution_count": 232,
     "metadata": {},
     "output_type": "execute_result"
    }
   ],
   "source": []
  },
  {
   "cell_type": "code",
   "execution_count": 231,
   "metadata": {},
   "outputs": [
    {
     "data": {
      "text/plain": [
       "[25, 5, 211, 257, 333, 369]"
      ]
     },
     "execution_count": 231,
     "metadata": {},
     "output_type": "execute_result"
    }
   ],
   "source": [
    "freq"
   ]
  },
  {
   "cell_type": "code",
   "execution_count": null,
   "metadata": {},
   "outputs": [],
   "source": []
  }
 ],
 "metadata": {
  "interpreter": {
   "hash": "31f2aee4e71d21fbe5cf8b01ff0e069b9275f58929596ceb00d14d90e3e16cd6"
  },
  "kernelspec": {
   "display_name": "Python 3.8.2 64-bit",
   "language": "python",
   "name": "python3"
  },
  "language_info": {
   "codemirror_mode": {
    "name": "ipython",
    "version": 3
   },
   "file_extension": ".py",
   "mimetype": "text/x-python",
   "name": "python",
   "nbconvert_exporter": "python",
   "pygments_lexer": "ipython3",
   "version": "3.7.6"
  },
  "orig_nbformat": 4
 },
 "nbformat": 4,
 "nbformat_minor": 2
}
